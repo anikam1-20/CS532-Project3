{
 "metadata": {
  "language_info": {
   "codemirror_mode": {
    "name": "ipython",
    "version": 3
   },
   "file_extension": ".py",
   "mimetype": "text/x-python",
   "name": "python",
   "nbconvert_exporter": "python",
   "pygments_lexer": "ipython3",
   "version": "3.8.6-final"
  },
  "orig_nbformat": 2,
  "kernelspec": {
   "name": "python3",
   "display_name": "Python 3.8.6 64-bit",
   "metadata": {
    "interpreter": {
     "hash": "eb742eb7343fd16051f87fc48aee2e6c9f30ed5e790b810160885ce596e830a3"
    }
   }
  }
 },
 "nbformat": 4,
 "nbformat_minor": 2,
 "cells": [
  {
   "cell_type": "code",
   "execution_count": 168,
   "metadata": {},
   "outputs": [],
   "source": [
    "import pandas as pd\n",
    "import numpy as np\n",
    "import matplotlib.pyplot as plt\n",
    "import seaborn as sns\n",
    "import pymongo\n",
    "import hashlib\n",
    "import csv\n",
    "import prettytable\n",
    "import json\n",
    "%matplotlib inline\n"
   ]
  },
  {
   "cell_type": "code",
   "execution_count": null,
   "metadata": {},
   "outputs": [],
   "source": []
  },
  {
   "cell_type": "code",
   "execution_count": 169,
   "metadata": {},
   "outputs": [],
   "source": [
    "client = pymongo.MongoClient(\"localhost\",27017)\n",
    "movies_db = client['Project3_Movies']\n",
    "movies_collection = movies_db['movies']\n",
    "movies_collection_ratings = movies_db['movies_ratings']\n",
    "movies_merge_with_ratings = movies_db['movies_merge']\n",
    "cache_database = movies_db[\"cacheDB\"]"
   ]
  },
  {
   "cell_type": "code",
   "execution_count": 170,
   "metadata": {},
   "outputs": [
    {
     "output_type": "execute_result",
     "data": {
      "text/plain": [
       "    item_id                                              title\n",
       "0         1                                   Toy Story (1995)\n",
       "1         2                                   GoldenEye (1995)\n",
       "2         3                                  Four Rooms (1995)\n",
       "3         4                                  Get Shorty (1995)\n",
       "4         5                                     Copycat (1995)\n",
       "5         6  Shanghai Triad (Yao a yao yao dao waipo qiao) ...\n",
       "6         7                              Twelve Monkeys (1995)\n",
       "7         8                                        Babe (1995)\n",
       "8         9                            Dead Man Walking (1995)\n",
       "9        10                                 Richard III (1995)\n",
       "10       11                               Seven (Se7en) (1995)\n",
       "11       12                         Usual Suspects, The (1995)\n",
       "12       13                            Mighty Aphrodite (1995)\n",
       "13       14                                 Postino, Il (1994)\n",
       "14       15                          Mr. Holland's Opus (1995)\n",
       "15       16                 French Twist (Gazon maudit) (1995)\n",
       "16       17                         From Dusk Till Dawn (1996)\n",
       "17       18                          White Balloon, The (1995)\n",
       "18       19                              Antonia's Line (1995)\n",
       "19       20                          Angels and Insects (1995)"
      ],
      "text/html": "<div>\n<style scoped>\n    .dataframe tbody tr th:only-of-type {\n        vertical-align: middle;\n    }\n\n    .dataframe tbody tr th {\n        vertical-align: top;\n    }\n\n    .dataframe thead th {\n        text-align: right;\n    }\n</style>\n<table border=\"1\" class=\"dataframe\">\n  <thead>\n    <tr style=\"text-align: right;\">\n      <th></th>\n      <th>item_id</th>\n      <th>title</th>\n    </tr>\n  </thead>\n  <tbody>\n    <tr>\n      <th>0</th>\n      <td>1</td>\n      <td>Toy Story (1995)</td>\n    </tr>\n    <tr>\n      <th>1</th>\n      <td>2</td>\n      <td>GoldenEye (1995)</td>\n    </tr>\n    <tr>\n      <th>2</th>\n      <td>3</td>\n      <td>Four Rooms (1995)</td>\n    </tr>\n    <tr>\n      <th>3</th>\n      <td>4</td>\n      <td>Get Shorty (1995)</td>\n    </tr>\n    <tr>\n      <th>4</th>\n      <td>5</td>\n      <td>Copycat (1995)</td>\n    </tr>\n    <tr>\n      <th>5</th>\n      <td>6</td>\n      <td>Shanghai Triad (Yao a yao yao dao waipo qiao) ...</td>\n    </tr>\n    <tr>\n      <th>6</th>\n      <td>7</td>\n      <td>Twelve Monkeys (1995)</td>\n    </tr>\n    <tr>\n      <th>7</th>\n      <td>8</td>\n      <td>Babe (1995)</td>\n    </tr>\n    <tr>\n      <th>8</th>\n      <td>9</td>\n      <td>Dead Man Walking (1995)</td>\n    </tr>\n    <tr>\n      <th>9</th>\n      <td>10</td>\n      <td>Richard III (1995)</td>\n    </tr>\n    <tr>\n      <th>10</th>\n      <td>11</td>\n      <td>Seven (Se7en) (1995)</td>\n    </tr>\n    <tr>\n      <th>11</th>\n      <td>12</td>\n      <td>Usual Suspects, The (1995)</td>\n    </tr>\n    <tr>\n      <th>12</th>\n      <td>13</td>\n      <td>Mighty Aphrodite (1995)</td>\n    </tr>\n    <tr>\n      <th>13</th>\n      <td>14</td>\n      <td>Postino, Il (1994)</td>\n    </tr>\n    <tr>\n      <th>14</th>\n      <td>15</td>\n      <td>Mr. Holland's Opus (1995)</td>\n    </tr>\n    <tr>\n      <th>15</th>\n      <td>16</td>\n      <td>French Twist (Gazon maudit) (1995)</td>\n    </tr>\n    <tr>\n      <th>16</th>\n      <td>17</td>\n      <td>From Dusk Till Dawn (1996)</td>\n    </tr>\n    <tr>\n      <th>17</th>\n      <td>18</td>\n      <td>White Balloon, The (1995)</td>\n    </tr>\n    <tr>\n      <th>18</th>\n      <td>19</td>\n      <td>Antonia's Line (1995)</td>\n    </tr>\n    <tr>\n      <th>19</th>\n      <td>20</td>\n      <td>Angels and Insects (1995)</td>\n    </tr>\n  </tbody>\n</table>\n</div>"
     },
     "metadata": {},
     "execution_count": 170
    }
   ],
   "source": [
    "movie_titles_df = pd.read_csv(\"Movie_Titles\")\n",
    "data_json = json.loads(movie_titles_df.to_json(orient='records'))\n",
    "movies_collection.remove()\n",
    "movies_collection.insert(data_json)\n",
    "movie_titles_df.head(20)"
   ]
  },
  {
   "cell_type": "code",
   "execution_count": 171,
   "metadata": {},
   "outputs": [],
   "source": [
    "get_movie = movies_collection.find_one()"
   ]
  },
  {
   "cell_type": "code",
   "execution_count": 172,
   "metadata": {},
   "outputs": [
    {
     "output_type": "execute_result",
     "data": {
      "text/plain": [
       "{'_id': ObjectId('5fb70587e73f605388ee5370'),\n",
       " 'item_id': 1,\n",
       " 'title': 'Toy Story (1995)'}"
      ]
     },
     "metadata": {},
     "execution_count": 172
    }
   ],
   "source": [
    "get_movie"
   ]
  },
  {
   "cell_type": "code",
   "execution_count": 173,
   "metadata": {},
   "outputs": [
    {
     "output_type": "execute_result",
     "data": {
      "text/plain": [
       "   user_id  item_id  rating  timestamp\n",
       "0        0       50       5  881250949\n",
       "1        0      172       5  881250949\n",
       "2        0      133       1  881250949\n",
       "3      196      242       3  881250949\n",
       "4      186      302       3  891717742\n",
       "5       22      377       1  878887116\n",
       "6      244       51       2  880606923\n",
       "7      166      346       1  886397596\n",
       "8      298      474       4  884182806\n",
       "9      115      265       2  881171488"
      ],
      "text/html": "<div>\n<style scoped>\n    .dataframe tbody tr th:only-of-type {\n        vertical-align: middle;\n    }\n\n    .dataframe tbody tr th {\n        vertical-align: top;\n    }\n\n    .dataframe thead th {\n        text-align: right;\n    }\n</style>\n<table border=\"1\" class=\"dataframe\">\n  <thead>\n    <tr style=\"text-align: right;\">\n      <th></th>\n      <th>user_id</th>\n      <th>item_id</th>\n      <th>rating</th>\n      <th>timestamp</th>\n    </tr>\n  </thead>\n  <tbody>\n    <tr>\n      <th>0</th>\n      <td>0</td>\n      <td>50</td>\n      <td>5</td>\n      <td>881250949</td>\n    </tr>\n    <tr>\n      <th>1</th>\n      <td>0</td>\n      <td>172</td>\n      <td>5</td>\n      <td>881250949</td>\n    </tr>\n    <tr>\n      <th>2</th>\n      <td>0</td>\n      <td>133</td>\n      <td>1</td>\n      <td>881250949</td>\n    </tr>\n    <tr>\n      <th>3</th>\n      <td>196</td>\n      <td>242</td>\n      <td>3</td>\n      <td>881250949</td>\n    </tr>\n    <tr>\n      <th>4</th>\n      <td>186</td>\n      <td>302</td>\n      <td>3</td>\n      <td>891717742</td>\n    </tr>\n    <tr>\n      <th>5</th>\n      <td>22</td>\n      <td>377</td>\n      <td>1</td>\n      <td>878887116</td>\n    </tr>\n    <tr>\n      <th>6</th>\n      <td>244</td>\n      <td>51</td>\n      <td>2</td>\n      <td>880606923</td>\n    </tr>\n    <tr>\n      <th>7</th>\n      <td>166</td>\n      <td>346</td>\n      <td>1</td>\n      <td>886397596</td>\n    </tr>\n    <tr>\n      <th>8</th>\n      <td>298</td>\n      <td>474</td>\n      <td>4</td>\n      <td>884182806</td>\n    </tr>\n    <tr>\n      <th>9</th>\n      <td>115</td>\n      <td>265</td>\n      <td>2</td>\n      <td>881171488</td>\n    </tr>\n  </tbody>\n</table>\n</div>"
     },
     "metadata": {},
     "execution_count": 173
    }
   ],
   "source": [
    "movies_rating_df = pd.read_csv('u.data', sep='\\t', names=['user_id', 'item_id', 'rating', 'timestamp'])\n",
    "movies_rating_df.head(10)"
   ]
  },
  {
   "cell_type": "code",
   "execution_count": 174,
   "metadata": {},
   "outputs": [
    {
     "output_type": "execute_result",
     "data": {
      "text/plain": [
       "        user_id  item_id  rating  timestamp\n",
       "99998       880      476       3  880175444\n",
       "99999       716      204       5  879795543\n",
       "100000      276     1090       1  874795795\n",
       "100001       13      225       2  882399156\n",
       "100002       12      203       3  879959583"
      ],
      "text/html": "<div>\n<style scoped>\n    .dataframe tbody tr th:only-of-type {\n        vertical-align: middle;\n    }\n\n    .dataframe tbody tr th {\n        vertical-align: top;\n    }\n\n    .dataframe thead th {\n        text-align: right;\n    }\n</style>\n<table border=\"1\" class=\"dataframe\">\n  <thead>\n    <tr style=\"text-align: right;\">\n      <th></th>\n      <th>user_id</th>\n      <th>item_id</th>\n      <th>rating</th>\n      <th>timestamp</th>\n    </tr>\n  </thead>\n  <tbody>\n    <tr>\n      <th>99998</th>\n      <td>880</td>\n      <td>476</td>\n      <td>3</td>\n      <td>880175444</td>\n    </tr>\n    <tr>\n      <th>99999</th>\n      <td>716</td>\n      <td>204</td>\n      <td>5</td>\n      <td>879795543</td>\n    </tr>\n    <tr>\n      <th>100000</th>\n      <td>276</td>\n      <td>1090</td>\n      <td>1</td>\n      <td>874795795</td>\n    </tr>\n    <tr>\n      <th>100001</th>\n      <td>13</td>\n      <td>225</td>\n      <td>2</td>\n      <td>882399156</td>\n    </tr>\n    <tr>\n      <th>100002</th>\n      <td>12</td>\n      <td>203</td>\n      <td>3</td>\n      <td>879959583</td>\n    </tr>\n  </tbody>\n</table>\n</div>"
     },
     "metadata": {},
     "execution_count": 174
    }
   ],
   "source": [
    "movies_rating_df.tail()"
   ]
  },
  {
   "cell_type": "code",
   "execution_count": 175,
   "metadata": {},
   "outputs": [
    {
     "output_type": "execute_result",
     "data": {
      "text/plain": [
       "fb70588e73f605388ee5be9'),\n",
       " ObjectId('5fb70588e73f605388ee5bea'),\n",
       " ObjectId('5fb70588e73f605388ee5beb'),\n",
       " ObjectId('5fb70588e73f605388ee5bec'),\n",
       " ObjectId('5fb70588e73f605388ee5bed'),\n",
       " ObjectId('5fb70588e73f605388ee5bee'),\n",
       " ObjectId('5fb70588e73f605388ee5bef'),\n",
       " ObjectId('5fb70588e73f605388ee5bf0'),\n",
       " ObjectId('5fb70588e73f605388ee5bf1'),\n",
       " ObjectId('5fb70588e73f605388ee5bf2'),\n",
       " ObjectId('5fb70588e73f605388ee5bf3'),\n",
       " ObjectId('5fb70588e73f605388ee5bf4'),\n",
       " ObjectId('5fb70588e73f605388ee5bf5'),\n",
       " ObjectId('5fb70588e73f605388ee5bf6'),\n",
       " ObjectId('5fb70588e73f605388ee5bf7'),\n",
       " ObjectId('5fb70588e73f605388ee5bf8'),\n",
       " ObjectId('5fb70588e73f605388ee5bf9'),\n",
       " ObjectId('5fb70588e73f605388ee5bfa'),\n",
       " ObjectId('5fb70588e73f605388ee5bfb'),\n",
       " ObjectId('5fb70588e73f605388ee5bfc'),\n",
       " ObjectId('5fb70588e73f605388ee5bfd'),\n",
       " ObjectId('5fb70588e73f605388ee5bfe'),\n",
       " ObjectId('5fb70588e73f605388ee5bff'),\n",
       " ObjectId('5fb70588e73f605388ee5c00'),\n",
       " ObjectId('5fb70588e73f605388ee5c01'),\n",
       " ObjectId('5fb70588e73f605388ee5c02'),\n",
       " ObjectId('5fb70588e73f605388ee5c03'),\n",
       " ObjectId('5fb70588e73f605388ee5c04'),\n",
       " ObjectId('5fb70588e73f605388ee5c05'),\n",
       " ObjectId('5fb70588e73f605388ee5c06'),\n",
       " ObjectId('5fb70588e73f605388ee5c07'),\n",
       " ObjectId('5fb70588e73f605388ee5c08'),\n",
       " ObjectId('5fb70588e73f605388ee5c09'),\n",
       " ObjectId('5fb70588e73f605388ee5c0a'),\n",
       " ObjectId('5fb70588e73f605388ee5c0b'),\n",
       " ObjectId('5fb70588e73f605388ee5c0c'),\n",
       " ObjectId('5fb70588e73f605388ee5c0d'),\n",
       " ObjectId('5fb70588e73f605388ee5c0e'),\n",
       " ObjectId('5fb70588e73f605388ee5c0f'),\n",
       " ObjectId('5fb70588e73f605388ee5c10'),\n",
       " ObjectId('5fb70588e73f605388ee5c11'),\n",
       " ObjectId('5fb70588e73f605388ee5c12'),\n",
       " ObjectId('5fb70588e73f605388ee5c13'),\n",
       " ObjectId('5fb70588e73f605388ee5c14'),\n",
       " ObjectId('5fb70588e73f605388ee5c15'),\n",
       " ObjectId('5fb70588e73f605388ee5c16'),\n",
       " ObjectId('5fb70588e73f605388ee5c17'),\n",
       " ObjectId('5fb70588e73f605388ee5c18'),\n",
       " ObjectId('5fb70588e73f605388ee5c19'),\n",
       " ObjectId('5fb70588e73f605388ee5c1a'),\n",
       " ObjectId('5fb70588e73f605388ee5c1b'),\n",
       " ObjectId('5fb70588e73f605388ee5c1c'),\n",
       " ObjectId('5fb70588e73f605388ee5c1d'),\n",
       " ObjectId('5fb70588e73f605388ee5c1e'),\n",
       " ObjectId('5fb70588e73f605388ee5c1f'),\n",
       " ObjectId('5fb70588e73f605388ee5c20'),\n",
       " ObjectId('5fb70588e73f605388ee5c21'),\n",
       " ObjectId('5fb70588e73f605388ee5c22'),\n",
       " ObjectId('5fb70588e73f605388ee5c23'),\n",
       " ObjectId('5fb70588e73f605388ee5c24'),\n",
       " ObjectId('5fb70588e73f605388ee5c25'),\n",
       " ObjectId('5fb70588e73f605388ee5c26'),\n",
       " ObjectId('5fb70588e73f605388ee5c27'),\n",
       " ObjectId('5fb70588e73f605388ee5c28'),\n",
       " ObjectId('5fb70588e73f605388ee5c29'),\n",
       " ObjectId('5fb70588e73f605388ee5c2a'),\n",
       " ObjectId('5fb70588e73f605388ee5c2b'),\n",
       " ObjectId('5fb70588e73f605388ee5c2c'),\n",
       " ObjectId('5fb70588e73f605388ee5c2d'),\n",
       " ObjectId('5fb70588e73f605388ee5c2e'),\n",
       " ObjectId('5fb70588e73f605388ee5c2f'),\n",
       " ObjectId('5fb70588e73f605388ee5c30'),\n",
       " ObjectId('5fb70588e73f605388ee5c31'),\n",
       " ObjectId('5fb70588e73f605388ee5c32'),\n",
       " ObjectId('5fb70588e73f605388ee5c33'),\n",
       " ObjectId('5fb70588e73f605388ee5c34'),\n",
       " ObjectId('5fb70588e73f605388ee5c35'),\n",
       " ObjectId('5fb70588e73f605388ee5c36'),\n",
       " ObjectId('5fb70588e73f605388ee5c37'),\n",
       " ObjectId('5fb70588e73f605388ee5c38'),\n",
       " ObjectId('5fb70588e73f605388ee5c39'),\n",
       " ObjectId('5fb70588e73f605388ee5c3a'),\n",
       " ObjectId('5fb70588e73f605388ee5c3b'),\n",
       " ObjectId('5fb70588e73f605388ee5c3c'),\n",
       " ObjectId('5fb70588e73f605388ee5c3d'),\n",
       " ObjectId('5fb70588e73f605388ee5c3e'),\n",
       " ObjectId('5fb70588e73f605388ee5c3f'),\n",
       " ObjectId('5fb70588e73f605388ee5c40'),\n",
       " ObjectId('5fb70588e73f605388ee5c41'),\n",
       " ObjectId('5fb70588e73f605388ee5c42'),\n",
       " ObjectId('5fb70588e73f605388ee5c43'),\n",
       " ObjectId('5fb70588e73f605388ee5c44'),\n",
       " ObjectId('5fb70588e73f605388ee5c45'),\n",
       " ObjectId('5fb70588e73f605388ee5c46'),\n",
       " ObjectId('5fb70588e73f605388ee5c47'),\n",
       " ObjectId('5fb70588e73f605388ee5c48'),\n",
       " ObjectId('5fb70588e73f605388ee5c49'),\n",
       " ObjectId('5fb70588e73f605388ee5c4a'),\n",
       " ObjectId('5fb70588e73f605388ee5c4b'),\n",
       " ObjectId('5fb70588e73f605388ee5c4c'),\n",
       " ObjectId('5fb70588e73f605388ee5c4d'),\n",
       " ObjectId('5fb70588e73f605388ee5c4e'),\n",
       " ObjectId('5fb70588e73f605388ee5c4f'),\n",
       " ObjectId('5fb70588e73f605388ee5c50'),\n",
       " ObjectId('5fb70588e73f605388ee5c51'),\n",
       " ObjectId('5fb70588e73f605388ee5c52'),\n",
       " ObjectId('5fb70588e73f605388ee5c53'),\n",
       " ObjectId('5fb70588e73f605388ee5c54'),\n",
       " ObjectId('5fb70588e73f605388ee5c55'),\n",
       " ObjectId('5fb70588e73f605388ee5c56'),\n",
       " ObjectId('5fb70588e73f605388ee5c57'),\n",
       " ObjectId('5fb70588e73f605388ee5c58'),\n",
       " ObjectId('5fb70588e73f605388ee5c59'),\n",
       " ObjectId('5fb70588e73f605388ee5c5a'),\n",
       " ObjectId('5fb70588e73f605388ee5c5b'),\n",
       " ObjectId('5fb70588e73f605388ee5c5c'),\n",
       " ObjectId('5fb70588e73f605388ee5c5d'),\n",
       " ObjectId('5fb70588e73f605388ee5c5e'),\n",
       " ObjectId('5fb70588e73f605388ee5c5f'),\n",
       " ObjectId('5fb70588e73f605388ee5c60'),\n",
       " ObjectId('5fb70588e73f605388ee5c61'),\n",
       " ObjectId('5fb70588e73f605388ee5c62'),\n",
       " ObjectId('5fb70588e73f605388ee5c63'),\n",
       " ObjectId('5fb70588e73f605388ee5c64'),\n",
       " ObjectId('5fb70588e73f605388ee5c65'),\n",
       " ObjectId('5fb70588e73f605388ee5c66'),\n",
       " ObjectId('5fb70588e73f605388ee5c67'),\n",
       " ObjectId('5fb70588e73f605388ee5c68'),\n",
       " ObjectId('5fb70588e73f605388ee5c69'),\n",
       " ObjectId('5fb70588e73f605388ee5c6a'),\n",
       " ObjectId('5fb70588e73f605388ee5c6b'),\n",
       " ObjectId('5fb70588e73f605388ee5c6c'),\n",
       " ObjectId('5fb70588e73f605388ee5c6d'),\n",
       " ObjectId('5fb70588e73f605388ee5c6e'),\n",
       " ObjectId('5fb70588e73f605388ee5c6f'),\n",
       " ObjectId('5fb70588e73f605388ee5c70'),\n",
       " ObjectId('5fb70588e73f605388ee5c71'),\n",
       " ObjectId('5fb70588e73f605388ee5c72'),\n",
       " ObjectId('5fb70588e73f605388ee5c73'),\n",
       " ObjectId('5fb70588e73f605388ee5c74'),\n",
       " ObjectId('5fb70588e73f605388ee5c75'),\n",
       " ObjectId('5fb70588e73f605388ee5c76'),\n",
       " ObjectId('5fb70588e73f605388ee5c77'),\n",
       " ObjectId('5fb70588e73f605388ee5c78'),\n",
       " ObjectId('5fb70588e73f605388ee5c79'),\n",
       " ObjectId('5fb70588e73f605388ee5c7a'),\n",
       " ObjectId('5fb70588e73f605388ee5c7b'),\n",
       " ObjectId('5fb70588e73f605388ee5c7c'),\n",
       " ObjectId('5fb70588e73f605388ee5c7d'),\n",
       " ObjectId('5fb70588e73f605388ee5c7e'),\n",
       " ObjectId('5fb70588e73f605388ee5c7f'),\n",
       " ObjectId('5fb70588e73f605388ee5c80'),\n",
       " ObjectId('5fb70588e73f605388ee5c81'),\n",
       " ObjectId('5fb70588e73f605388ee5c82'),\n",
       " ObjectId('5fb70588e73f605388ee5c83'),\n",
       " ObjectId('5fb70588e73f605388ee5c84'),\n",
       " ObjectId('5fb70588e73f605388ee5c85'),\n",
       " ObjectId('5fb70588e73f605388ee5c86'),\n",
       " ObjectId('5fb70588e73f605388ee5c87'),\n",
       " ObjectId('5fb70588e73f605388ee5c88'),\n",
       " ObjectId('5fb70588e73f605388ee5c89'),\n",
       " ObjectId('5fb70588e73f605388ee5c8a'),\n",
       " ObjectId('5fb70588e73f605388ee5c8b'),\n",
       " ObjectId('5fb70588e73f605388ee5c8c'),\n",
       " ObjectId('5fb70588e73f605388ee5c8d'),\n",
       " ObjectId('5fb70588e73f605388ee5c8e'),\n",
       " ObjectId('5fb70588e73f605388ee5c8f'),\n",
       " ObjectId('5fb70588e73f605388ee5c90'),\n",
       " ObjectId('5fb70588e73f605388ee5c91'),\n",
       " ObjectId('5fb70588e73f605388ee5c92'),\n",
       " ObjectId('5fb70588e73f605388ee5c93'),\n",
       " ObjectId('5fb70588e73f605388ee5c94'),\n",
       " ObjectId('5fb70588e73f605388ee5c95'),\n",
       " ObjectId('5fb70588e73f605388ee5c96'),\n",
       " ObjectId('5fb70588e73f605388ee5c97'),\n",
       " ObjectId('5fb70588e73f605388ee5c98'),\n",
       " ObjectId('5fb70588e73f605388ee5c99'),\n",
       " ObjectId('5fb70588e73f605388ee5c9a'),\n",
       " ObjectId('5fb70588e73f605388ee5c9b'),\n",
       " ObjectId('5fb70588e73f605388ee5c9c'),\n",
       " ObjectId('5fb70588e73f605388ee5c9d'),\n",
       " ObjectId('5fb70588e73f605388ee5c9e'),\n",
       " ObjectId('5fb70588e73f605388ee5c9f'),\n",
       " ObjectId('5fb70588e73f605388ee5ca0'),\n",
       " ObjectId('5fb70588e73f605388ee5ca1'),\n",
       " ObjectId('5fb70588e73f605388ee5ca2'),\n",
       " ObjectId('5fb70588e73f605388ee5ca3'),\n",
       " ObjectId('5fb70588e73f605388ee5ca4'),\n",
       " ObjectId('5fb70588e73f605388ee5ca5'),\n",
       " ObjectId('5fb70588e73f605388ee5ca6'),\n",
       " ObjectId('5fb70588e73f605388ee5ca7'),\n",
       " ObjectId('5fb70588e73f605388ee5ca8'),\n",
       " ObjectId('5fb70588e73f605388ee5ca9'),\n",
       " ObjectId('5fb70588e73f605388ee5caa'),\n",
       " ObjectId('5fb70588e73f605388ee5cab'),\n",
       " ObjectId('5fb70588e73f605388ee5cac'),\n",
       " ObjectId('5fb70588e73f605388ee5cad'),\n",
       " ObjectId('5fb70588e73f605388ee5cae'),\n",
       " ObjectId('5fb70588e73f605388ee5caf'),\n",
       " ObjectId('5fb70588e73f605388ee5cb0'),\n",
       " ObjectId('5fb70588e73f605388ee5cb1'),\n",
       " ObjectId('5fb70588e73f605388ee5cb2'),\n",
       " ObjectId('5fb70588e73f605388ee5cb3'),\n",
       " ObjectId('5fb70588e73f605388ee5cb4'),\n",
       " ObjectId('5fb70588e73f605388ee5cb5'),\n",
       " ObjectId('5fb70588e73f605388ee5cb6'),\n",
       " ObjectId('5fb70588e73f605388ee5cb7'),\n",
       " ObjectId('5fb70588e73f605388ee5cb8'),\n",
       " ObjectId('5fb70588e73f605388ee5cb9'),\n",
       " ObjectId('5fb70588e73f605388ee5cba'),\n",
       " ObjectId('5fb70588e73f605388ee5cbb'),\n",
       " ObjectId('5fb70588e73f605388ee5cbc'),\n",
       " ObjectId('5fb70588e73f605388ee5cbd'),\n",
       " ObjectId('5fb70588e73f605388ee5cbe'),\n",
       " ObjectId('5fb70588e73f605388ee5cbf'),\n",
       " ObjectId('5fb70588e73f605388ee5cc0'),\n",
       " ObjectId('5fb70588e73f605388ee5cc1'),\n",
       " ObjectId('5fb70588e73f605388ee5cc2'),\n",
       " ObjectId('5fb70588e73f605388ee5cc3'),\n",
       " ObjectId('5fb70588e73f605388ee5cc4'),\n",
       " ObjectId('5fb70588e73f605388ee5cc5'),\n",
       " ObjectId('5fb70588e73f605388ee5cc6'),\n",
       " ObjectId('5fb70588e73f605388ee5cc7'),\n",
       " ObjectId('5fb70588e73f605388ee5cc8'),\n",
       " ObjectId('5fb70588e73f605388ee5cc9'),\n",
       " ObjectId('5fb70588e73f605388ee5cca'),\n",
       " ObjectId('5fb70588e73f605388ee5ccb'),\n",
       " ObjectId('5fb70588e73f605388ee5ccc'),\n",
       " ObjectId('5fb70588e73f605388ee5ccd'),\n",
       " ObjectId('5fb70588e73f605388ee5cce'),\n",
       " ObjectId('5fb70588e73f605388ee5ccf'),\n",
       " ObjectId('5fb70588e73f605388ee5cd0'),\n",
       " ObjectId('5fb70588e73f605388ee5cd1'),\n",
       " ObjectId('5fb70588e73f605388ee5cd2'),\n",
       " ObjectId('5fb70588e73f605388ee5cd3'),\n",
       " ObjectId('5fb70588e73f605388ee5cd4'),\n",
       " ObjectId('5fb70588e73f605388ee5cd5'),\n",
       " ObjectId('5fb70588e73f605388ee5cd6'),\n",
       " ObjectId('5fb70588e73f605388ee5cd7'),\n",
       " ObjectId('5fb70588e73f605388ee5cd8'),\n",
       " ObjectId('5fb70588e73f605388ee5cd9'),\n",
       " ObjectId('5fb70588e73f605388ee5cda'),\n",
       " ObjectId('5fb70588e73f605388ee5cdb'),\n",
       " ObjectId('5fb70588e73f605388ee5cdc'),\n",
       " ObjectId('5fb70588e73f605388ee5cdd'),\n",
       " ObjectId('5fb70588e73f605388ee5cde'),\n",
       " ObjectId('5fb70588e73f605388ee5cdf'),\n",
       " ObjectId('5fb70588e73f605388ee5ce0'),\n",
       " ObjectId('5fb70588e73f605388ee5ce1'),\n",
       " ObjectId('5fb70588e73f605388ee5ce2'),\n",
       " ObjectId('5fb70588e73f605388ee5ce3'),\n",
       " ObjectId('5fb70588e73f605388ee5ce4'),\n",
       " ObjectId('5fb70588e73f605388ee5ce5'),\n",
       " ObjectId('5fb70588e73f605388ee5ce6'),\n",
       " ObjectId('5fb70588e73f605388ee5ce7'),\n",
       " ObjectId('5fb70588e73f605388ee5ce8'),\n",
       " ObjectId('5fb70588e73f605388ee5ce9'),\n",
       " ObjectId('5fb70588e73f605388ee5cea'),\n",
       " ObjectId('5fb70588e73f605388ee5ceb'),\n",
       " ObjectId('5fb70588e73f605388ee5cec'),\n",
       " ObjectId('5fb70588e73f605388ee5ced'),\n",
       " ObjectId('5fb70588e73f605388ee5cee'),\n",
       " ObjectId('5fb70588e73f605388ee5cef'),\n",
       " ObjectId('5fb70588e73f605388ee5cf0'),\n",
       " ObjectId('5fb70588e73f605388ee5cf1'),\n",
       " ObjectId('5fb70588e73f605388ee5cf2'),\n",
       " ObjectId('5fb70588e73f605388ee5cf3'),\n",
       " ObjectId('5fb70588e73f605388ee5cf4'),\n",
       " ObjectId('5fb70588e73f605388ee5cf5'),\n",
       " ObjectId('5fb70588e73f605388ee5cf6'),\n",
       " ObjectId('5fb70588e73f605388ee5cf7'),\n",
       " ObjectId('5fb70588e73f605388ee5cf8'),\n",
       " ObjectId('5fb70588e73f605388ee5cf9'),\n",
       " ObjectId('5fb70588e73f605388ee5cfa'),\n",
       " ObjectId('5fb70588e73f605388ee5cfb'),\n",
       " ObjectId('5fb70588e73f605388ee5cfc'),\n",
       " ObjectId('5fb70588e73f605388ee5cfd'),\n",
       " ObjectId('5fb70588e73f605388ee5cfe'),\n",
       " ObjectId('5fb70588e73f605388ee5cff'),\n",
       " ObjectId('5fb70588e73f605388ee5d00'),\n",
       " ObjectId('5fb70588e73f605388ee5d01'),\n",
       " ObjectId('5fb70588e73f605388ee5d02'),\n",
       " ObjectId('5fb70588e73f605388ee5d03'),\n",
       " ObjectId('5fb70588e73f605388ee5d04'),\n",
       " ObjectId('5fb70588e73f605388ee5d05'),\n",
       " ObjectId('5fb70588e73f605388ee5d06'),\n",
       " ObjectId('5fb70588e73f605388ee5d07'),\n",
       " ObjectId('5fb70588e73f605388ee5d08'),\n",
       " ObjectId('5fb70588e73f605388ee5d09'),\n",
       " ObjectId('5fb70588e73f605388ee5d0a'),\n",
       " ObjectId('5fb70588e73f605388ee5d0b'),\n",
       " ObjectId('5fb70588e73f605388ee5d0c'),\n",
       " ObjectId('5fb70588e73f605388ee5d0d'),\n",
       " ObjectId('5fb70588e73f605388ee5d0e'),\n",
       " ObjectId('5fb70588e73f605388ee5d0f'),\n",
       " ObjectId('5fb70588e73f605388ee5d10'),\n",
       " ObjectId('5fb70588e73f605388ee5d11'),\n",
       " ObjectId('5fb70588e73f605388ee5d12'),\n",
       " ObjectId('5fb70588e73f605388ee5d13'),\n",
       " ObjectId('5fb70588e73f605388ee5d14'),\n",
       " ObjectId('5fb70588e73f605388ee5d15'),\n",
       " ObjectId('5fb70588e73f605388ee5d16'),\n",
       " ObjectId('5fb70588e73f605388ee5d17'),\n",
       " ObjectId('5fb70588e73f605388ee5d18'),\n",
       " ObjectId('5fb70588e73f605388ee5d19'),\n",
       " ObjectId('5fb70588e73f605388ee5d1a'),\n",
       " ObjectId('5fb70588e73f605388ee5d1b'),\n",
       " ObjectId('5fb70588e73f605388ee5d1c'),\n",
       " ObjectId('5fb70588e73f605388ee5d1d'),\n",
       " ObjectId('5fb70588e73f605388ee5d1e'),\n",
       " ObjectId('5fb70588e73f605388ee5d1f'),\n",
       " ObjectId('5fb70588e73f605388ee5d20'),\n",
       " ObjectId('5fb70588e73f605388ee5d21'),\n",
       " ObjectId('5fb70588e73f605388ee5d22'),\n",
       " ObjectId('5fb70588e73f605388ee5d23'),\n",
       " ObjectId('5fb70588e73f605388ee5d24'),\n",
       " ObjectId('5fb70588e73f605388ee5d25'),\n",
       " ObjectId('5fb70588e73f605388ee5d26'),\n",
       " ObjectId('5fb70588e73f605388ee5d27'),\n",
       " ObjectId('5fb70588e73f605388ee5d28'),\n",
       " ObjectId('5fb70588e73f605388ee5d29'),\n",
       " ObjectId('5fb70588e73f605388ee5d2a'),\n",
       " ObjectId('5fb70588e73f605388ee5d2b'),\n",
       " ObjectId('5fb70588e73f605388ee5d2c'),\n",
       " ObjectId('5fb70588e73f605388ee5d2d'),\n",
       " ObjectId('5fb70588e73f605388ee5d2e'),\n",
       " ObjectId('5fb70588e73f605388ee5d2f'),\n",
       " ObjectId('5fb70588e73f605388ee5d30'),\n",
       " ObjectId('5fb70588e73f605388ee5d31'),\n",
       " ObjectId('5fb70588e73f605388ee5d32'),\n",
       " ObjectId('5fb70588e73f605388ee5d33'),\n",
       " ObjectId('5fb70588e73f605388ee5d34'),\n",
       " ObjectId('5fb70588e73f605388ee5d35'),\n",
       " ObjectId('5fb70588e73f605388ee5d36'),\n",
       " ObjectId('5fb70588e73f605388ee5d37'),\n",
       " ObjectId('5fb70588e73f605388ee5d38'),\n",
       " ObjectId('5fb70588e73f605388ee5d39'),\n",
       " ObjectId('5fb70588e73f605388ee5d3a'),\n",
       " ObjectId('5fb70588e73f605388ee5d3b'),\n",
       " ObjectId('5fb70588e73f605388ee5d3c'),\n",
       " ObjectId('5fb70588e73f605388ee5d3d'),\n",
       " ObjectId('5fb70588e73f605388ee5d3e'),\n",
       " ObjectId('5fb70588e73f605388ee5d3f'),\n",
       " ObjectId('5fb70588e73f605388ee5d40'),\n",
       " ObjectId('5fb70588e73f605388ee5d41'),\n",
       " ObjectId('5fb70588e73f605388ee5d42'),\n",
       " ObjectId('5fb70588e73f605388ee5d43'),\n",
       " ObjectId('5fb70588e73f605388ee5d44'),\n",
       " ObjectId('5fb70588e73f605388ee5d45'),\n",
       " ObjectId('5fb70588e73f605388ee5d46'),\n",
       " ObjectId('5fb70588e73f605388ee5d47'),\n",
       " ObjectId('5fb70588e73f605388ee5d48'),\n",
       " ObjectId('5fb70588e73f605388ee5d49'),\n",
       " ObjectId('5fb70588e73f605388ee5d4a'),\n",
       " ObjectId('5fb70588e73f605388ee5d4b'),\n",
       " ObjectId('5fb70588e73f605388ee5d4c'),\n",
       " ObjectId('5fb70588e73f605388ee5d4d'),\n",
       " ObjectId('5fb70588e73f605388ee5d4e'),\n",
       " ObjectId('5fb70588e73f605388ee5d4f'),\n",
       " ObjectId('5fb70588e73f605388ee5d50'),\n",
       " ObjectId('5fb70588e73f605388ee5d51'),\n",
       " ObjectId('5fb70588e73f605388ee5d52'),\n",
       " ObjectId('5fb70588e73f605388ee5d53'),\n",
       " ObjectId('5fb70588e73f605388ee5d54'),\n",
       " ObjectId('5fb70588e73f605388ee5d55'),\n",
       " ObjectId('5fb70588e73f605388ee5d56'),\n",
       " ObjectId('5fb70588e73f605388ee5d57'),\n",
       " ObjectId('5fb70588e73f605388ee5d58'),\n",
       " ObjectId('5fb70588e73f605388ee5d59'),\n",
       " ObjectId('5fb70588e73f605388ee5d5a'),\n",
       " ObjectId('5fb70588e73f605388ee5d5b'),\n",
       " ObjectId('5fb70588e73f605388ee5d5c'),\n",
       " ObjectId('5fb70588e73f605388ee5d5d'),\n",
       " ObjectId('5fb70588e73f605388ee5d5e'),\n",
       " ObjectId('5fb70588e73f605388ee5d5f'),\n",
       " ObjectId('5fb70588e73f605388ee5d60'),\n",
       " ObjectId('5fb70588e73f605388ee5d61'),\n",
       " ObjectId('5fb70588e73f605388ee5d62'),\n",
       " ObjectId('5fb70588e73f605388ee5d63'),\n",
       " ObjectId('5fb70588e73f605388ee5d64'),\n",
       " ObjectId('5fb70588e73f605388ee5d65'),\n",
       " ObjectId('5fb70588e73f605388ee5d66'),\n",
       " ObjectId('5fb70588e73f605388ee5d67'),\n",
       " ObjectId('5fb70588e73f605388ee5d68'),\n",
       " ObjectId('5fb70588e73f605388ee5d69'),\n",
       " ObjectId('5fb70588e73f605388ee5d6a'),\n",
       " ObjectId('5fb70588e73f605388ee5d6b'),\n",
       " ObjectId('5fb70588e73f605388ee5d6c'),\n",
       " ObjectId('5fb70588e73f605388ee5d6d'),\n",
       " ObjectId('5fb70588e73f605388ee5d6e'),\n",
       " ObjectId('5fb70588e73f605388ee5d6f'),\n",
       " ObjectId('5fb70588e73f605388ee5d70'),\n",
       " ObjectId('5fb70588e73f605388ee5d71'),\n",
       " ObjectId('5fb70588e73f605388ee5d72'),\n",
       " ObjectId('5fb70588e73f605388ee5d73'),\n",
       " ObjectId('5fb70588e73f605388ee5d74'),\n",
       " ObjectId('5fb70588e73f605388ee5d75'),\n",
       " ObjectId('5fb70588e73f605388ee5d76'),\n",
       " ObjectId('5fb70588e73f605388ee5d77'),\n",
       " ObjectId('5fb70588e73f605388ee5d78'),\n",
       " ObjectId('5fb70588e73f605388ee5d79'),\n",
       " ObjectId('5fb70588e73f605388ee5d7a'),\n",
       " ObjectId('5fb70588e73f605388ee5d7b'),\n",
       " ObjectId('5fb70588e73f605388ee5d7c'),\n",
       " ObjectId('5fb70588e73f605388ee5d7d'),\n",
       " ObjectId('5fb70588e73f605388ee5d7e'),\n",
       " ObjectId('5fb70588e73f605388ee5d7f'),\n",
       " ObjectId('5fb70588e73f605388ee5d80'),\n",
       " ObjectId('5fb70588e73f605388ee5d81'),\n",
       " ObjectId('5fb70588e73f605388ee5d82'),\n",
       " ObjectId('5fb70588e73f605388ee5d83'),\n",
       " ObjectId('5fb70588e73f605388ee5d84'),\n",
       " ObjectId('5fb70588e73f605388ee5d85'),\n",
       " ObjectId('5fb70588e73f605388ee5d86'),\n",
       " ObjectId('5fb70588e73f605388ee5d87'),\n",
       " ObjectId('5fb70588e73f605388ee5d88'),\n",
       " ObjectId('5fb70588e73f605388ee5d89'),\n",
       " ObjectId('5fb70588e73f605388ee5d8a'),\n",
       " ObjectId('5fb70588e73f605388ee5d8b'),\n",
       " ObjectId('5fb70588e73f605388ee5d8c'),\n",
       " ObjectId('5fb70588e73f605388ee5d8d'),\n",
       " ObjectId('5fb70588e73f605388ee5d8e'),\n",
       " ObjectId('5fb70588e73f605388ee5d8f'),\n",
       " ObjectId('5fb70588e73f605388ee5d90'),\n",
       " ObjectId('5fb70588e73f605388ee5d91'),\n",
       " ObjectId('5fb70588e73f605388ee5d92'),\n",
       " ObjectId('5fb70588e73f605388ee5d93'),\n",
       " ObjectId('5fb70588e73f605388ee5d94'),\n",
       " ObjectId('5fb70588e73f605388ee5d95'),\n",
       " ObjectId('5fb70588e73f605388ee5d96'),\n",
       " ObjectId('5fb70588e73f605388ee5d97'),\n",
       " ObjectId('5fb70588e73f605388ee5d98'),\n",
       " ObjectId('5fb70588e73f605388ee5d99'),\n",
       " ObjectId('5fb70588e73f605388ee5d9a'),\n",
       " ObjectId('5fb70588e73f605388ee5d9b'),\n",
       " ObjectId('5fb70588e73f605388ee5d9c'),\n",
       " ObjectId('5fb70588e73f605388ee5d9d'),\n",
       " ObjectId('5fb70588e73f605388ee5d9e'),\n",
       " ObjectId('5fb70588e73f605388ee5d9f'),\n",
       " ObjectId('5fb70588e73f605388ee5da0'),\n",
       " ObjectId('5fb70588e73f605388ee5da1'),\n",
       " ObjectId('5fb70588e73f605388ee5da2'),\n",
       " ObjectId('5fb70588e73f605388ee5da3'),\n",
       " ObjectId('5fb70588e73f605388ee5da4'),\n",
       " ObjectId('5fb70588e73f605388ee5da5'),\n",
       " ObjectId('5fb70588e73f605388ee5da6'),\n",
       " ObjectId('5fb70588e73f605388ee5da7'),\n",
       " ObjectId('5fb70588e73f605388ee5da8'),\n",
       " ObjectId('5fb70588e73f605388ee5da9'),\n",
       " ObjectId('5fb70588e73f605388ee5daa'),\n",
       " ObjectId('5fb70588e73f605388ee5dab'),\n",
       " ObjectId('5fb70588e73f605388ee5dac'),\n",
       " ObjectId('5fb70588e73f605388ee5dad'),\n",
       " ObjectId('5fb70588e73f605388ee5dae'),\n",
       " ObjectId('5fb70588e73f605388ee5daf'),\n",
       " ObjectId('5fb70588e73f605388ee5db0'),\n",
       " ObjectId('5fb70588e73f605388ee5db1'),\n",
       " ObjectId('5fb70588e73f605388ee5db2'),\n",
       " ObjectId('5fb70588e73f605388ee5db3'),\n",
       " ObjectId('5fb70588e73f605388ee5db4'),\n",
       " ObjectId('5fb70588e73f605388ee5db5'),\n",
       " ObjectId('5fb70588e73f605388ee5db6'),\n",
       " ObjectId('5fb70588e73f605388ee5db7'),\n",
       " ObjectId('5fb70588e73f605388ee5db8'),\n",
       " ObjectId('5fb70588e73f605388ee5db9'),\n",
       " ObjectId('5fb70588e73f605388ee5dba'),\n",
       " ObjectId('5fb70588e73f605388ee5dbb'),\n",
       " ObjectId('5fb70588e73f605388ee5dbc'),\n",
       " ObjectId('5fb70588e73f605388ee5dbd'),\n",
       " ObjectId('5fb70588e73f605388ee5dbe'),\n",
       " ObjectId('5fb70588e73f605388ee5dbf'),\n",
       " ObjectId('5fb70588e73f605388ee5dc0'),\n",
       " ObjectId('5fb70588e73f605388ee5dc1'),\n",
       " ObjectId('5fb70588e73f605388ee5dc2'),\n",
       " ObjectId('5fb70588e73f605388ee5dc3'),\n",
       " ObjectId('5fb70588e73f605388ee5dc4'),\n",
       " ObjectId('5fb70588e73f605388ee5dc5'),\n",
       " ObjectId('5fb70588e73f605388ee5dc6'),\n",
       " ObjectId('5fb70588e73f605388ee5dc7'),\n",
       " ObjectId('5fb70588e73f605388ee5dc8'),\n",
       " ObjectId('5fb70588e73f605388ee5dc9'),\n",
       " ObjectId('5fb70588e73f605388ee5dca'),\n",
       " ObjectId('5fb70588e73f605388ee5dcb'),\n",
       " ObjectId('5fb70588e73f605388ee5dcc'),\n",
       " ObjectId('5fb70588e73f605388ee5dcd'),\n",
       " ObjectId('5fb70588e73f605388ee5dce'),\n",
       " ObjectId('5fb70588e73f605388ee5dcf'),\n",
       " ObjectId('5fb70588e73f605388ee5dd0'),\n",
       " ObjectId('5fb70588e73f605388ee5dd1'),\n",
       " ObjectId('5fb70588e73f605388ee5dd2'),\n",
       " ObjectId('5fb70588e73f605388ee5dd3'),\n",
       " ObjectId('5fb70588e73f605388ee5dd4'),\n",
       " ObjectId('5fb70588e73f605388ee5dd5'),\n",
       " ObjectId('5fb70588e73f605388ee5dd6'),\n",
       " ObjectId('5fb70588e73f605388ee5dd7'),\n",
       " ObjectId('5fb70588e73f605388ee5dd8'),\n",
       " ObjectId('5fb70588e73f605388ee5dd9'),\n",
       " ObjectId('5fb70588e73f605388ee5dda'),\n",
       " ObjectId('5fb70588e73f605388ee5ddb'),\n",
       " ObjectId('5fb70588e73f605388ee5ddc'),\n",
       " ObjectId('5fb70588e73f605388ee5ddd'),\n",
       " ObjectId('5fb70588e73f605388ee5dde'),\n",
       " ObjectId('5fb70588e73f605388ee5ddf'),\n",
       " ObjectId('5fb70588e73f605388ee5de0'),\n",
       " ObjectId('5fb70588e73f605388ee5de1'),\n",
       " ObjectId('5fb70588e73f605388ee5de2'),\n",
       " ObjectId('5fb70588e73f605388ee5de3'),\n",
       " ObjectId('5fb70588e73f605388ee5de4'),\n",
       " ObjectId('5fb70588e73f605388ee5de5'),\n",
       " ObjectId('5fb70588e73f605388ee5de6'),\n",
       " ObjectId('5fb70588e73f605388ee5de7'),\n",
       " ObjectId('5fb70588e73f605388ee5de8'),\n",
       " ObjectId('5fb70588e73f605388ee5de9'),\n",
       " ...]"
      ]
     },
     "metadata": {},
     "execution_count": 175
    }
   ],
   "source": [
    "#Insert User data in the database\n",
    "\n",
    "movies_rating_df.drop(['timestamp'], axis = 1, inplace = True)\n",
    "data_json = json.loads(movies_rating_df.to_json(orient='records'))\n",
    "movies_collection_ratings.remove()\n",
    "movies_collection_ratings.insert(data_json)"
   ]
  },
  {
   "cell_type": "code",
   "execution_count": 176,
   "metadata": {},
   "outputs": [
    {
     "output_type": "execute_result",
     "data": {
      "text/plain": [
       "{'_id': ObjectId('5fb70588e73f605388ee5a02'),\n",
       " 'user_id': 0,\n",
       " 'item_id': 50,\n",
       " 'rating': 5}"
      ]
     },
     "metadata": {},
     "execution_count": 176
    }
   ],
   "source": [
    "movies_collection_ratings.find_one()"
   ]
  },
  {
   "cell_type": "code",
   "execution_count": 177,
   "metadata": {},
   "outputs": [
    {
     "output_type": "stream",
     "name": "stdout",
     "text": [
      "{'_id': ObjectId('5fb70588e73f605388ee5a02'), 'user_id': 0, 'item_id': 50, 'rating': 5}\n{'_id': ObjectId('5fb70588e73f605388ee5a03'), 'user_id': 0, 'item_id': 172, 'rating': 5}\n{'_id': ObjectId('5fb70588e73f605388ee5a04'), 'user_id': 0, 'item_id': 133, 'rating': 1}\n"
     ]
    }
   ],
   "source": [
    "results = movies_collection_ratings.find({'user_id':0})\n",
    "for user in results:\n",
    "    print(user)"
   ]
  },
  {
   "cell_type": "code",
   "execution_count": null,
   "metadata": {},
   "outputs": [],
   "source": []
  },
  {
   "cell_type": "code",
   "execution_count": 178,
   "metadata": {},
   "outputs": [
    {
     "output_type": "execute_result",
     "data": {
      "text/plain": [
       "    user_id  item_id  rating             title\n",
       "0         0       50       5  Star Wars (1977)\n",
       "1       290       50       5  Star Wars (1977)\n",
       "2        79       50       4  Star Wars (1977)\n",
       "3         2       50       5  Star Wars (1977)\n",
       "4         8       50       5  Star Wars (1977)\n",
       "5       274       50       5  Star Wars (1977)\n",
       "6       227       50       4  Star Wars (1977)\n",
       "7        99       50       5  Star Wars (1977)\n",
       "8       305       50       5  Star Wars (1977)\n",
       "9       108       50       4  Star Wars (1977)\n",
       "10       63       50       4  Star Wars (1977)\n",
       "11      234       50       4  Star Wars (1977)\n",
       "12       97       50       5  Star Wars (1977)\n",
       "13      117       50       5  Star Wars (1977)\n",
       "14       70       50       4  Star Wars (1977)\n",
       "15      318       50       2  Star Wars (1977)\n",
       "16      145       50       5  Star Wars (1977)\n",
       "17      124       50       3  Star Wars (1977)\n",
       "18      253       50       4  Star Wars (1977)\n",
       "19      271       50       5  Star Wars (1977)"
      ],
      "text/html": "<div>\n<style scoped>\n    .dataframe tbody tr th:only-of-type {\n        vertical-align: middle;\n    }\n\n    .dataframe tbody tr th {\n        vertical-align: top;\n    }\n\n    .dataframe thead th {\n        text-align: right;\n    }\n</style>\n<table border=\"1\" class=\"dataframe\">\n  <thead>\n    <tr style=\"text-align: right;\">\n      <th></th>\n      <th>user_id</th>\n      <th>item_id</th>\n      <th>rating</th>\n      <th>title</th>\n    </tr>\n  </thead>\n  <tbody>\n    <tr>\n      <th>0</th>\n      <td>0</td>\n      <td>50</td>\n      <td>5</td>\n      <td>Star Wars (1977)</td>\n    </tr>\n    <tr>\n      <th>1</th>\n      <td>290</td>\n      <td>50</td>\n      <td>5</td>\n      <td>Star Wars (1977)</td>\n    </tr>\n    <tr>\n      <th>2</th>\n      <td>79</td>\n      <td>50</td>\n      <td>4</td>\n      <td>Star Wars (1977)</td>\n    </tr>\n    <tr>\n      <th>3</th>\n      <td>2</td>\n      <td>50</td>\n      <td>5</td>\n      <td>Star Wars (1977)</td>\n    </tr>\n    <tr>\n      <th>4</th>\n      <td>8</td>\n      <td>50</td>\n      <td>5</td>\n      <td>Star Wars (1977)</td>\n    </tr>\n    <tr>\n      <th>5</th>\n      <td>274</td>\n      <td>50</td>\n      <td>5</td>\n      <td>Star Wars (1977)</td>\n    </tr>\n    <tr>\n      <th>6</th>\n      <td>227</td>\n      <td>50</td>\n      <td>4</td>\n      <td>Star Wars (1977)</td>\n    </tr>\n    <tr>\n      <th>7</th>\n      <td>99</td>\n      <td>50</td>\n      <td>5</td>\n      <td>Star Wars (1977)</td>\n    </tr>\n    <tr>\n      <th>8</th>\n      <td>305</td>\n      <td>50</td>\n      <td>5</td>\n      <td>Star Wars (1977)</td>\n    </tr>\n    <tr>\n      <th>9</th>\n      <td>108</td>\n      <td>50</td>\n      <td>4</td>\n      <td>Star Wars (1977)</td>\n    </tr>\n    <tr>\n      <th>10</th>\n      <td>63</td>\n      <td>50</td>\n      <td>4</td>\n      <td>Star Wars (1977)</td>\n    </tr>\n    <tr>\n      <th>11</th>\n      <td>234</td>\n      <td>50</td>\n      <td>4</td>\n      <td>Star Wars (1977)</td>\n    </tr>\n    <tr>\n      <th>12</th>\n      <td>97</td>\n      <td>50</td>\n      <td>5</td>\n      <td>Star Wars (1977)</td>\n    </tr>\n    <tr>\n      <th>13</th>\n      <td>117</td>\n      <td>50</td>\n      <td>5</td>\n      <td>Star Wars (1977)</td>\n    </tr>\n    <tr>\n      <th>14</th>\n      <td>70</td>\n      <td>50</td>\n      <td>4</td>\n      <td>Star Wars (1977)</td>\n    </tr>\n    <tr>\n      <th>15</th>\n      <td>318</td>\n      <td>50</td>\n      <td>2</td>\n      <td>Star Wars (1977)</td>\n    </tr>\n    <tr>\n      <th>16</th>\n      <td>145</td>\n      <td>50</td>\n      <td>5</td>\n      <td>Star Wars (1977)</td>\n    </tr>\n    <tr>\n      <th>17</th>\n      <td>124</td>\n      <td>50</td>\n      <td>3</td>\n      <td>Star Wars (1977)</td>\n    </tr>\n    <tr>\n      <th>18</th>\n      <td>253</td>\n      <td>50</td>\n      <td>4</td>\n      <td>Star Wars (1977)</td>\n    </tr>\n    <tr>\n      <th>19</th>\n      <td>271</td>\n      <td>50</td>\n      <td>5</td>\n      <td>Star Wars (1977)</td>\n    </tr>\n  </tbody>\n</table>\n</div>"
     },
     "metadata": {},
     "execution_count": 178
    }
   ],
   "source": [
    "#Merge Movie ratings and movie titles\n",
    "movies_rating_df = pd.merge(movies_rating_df, movie_titles_df, on = 'item_id')\n",
    "data_json = json.loads(movies_rating_df.to_json(orient='records'))\n",
    "movies_merge_with_ratings.remove()\n",
    "movies_merge_with_ratings.insert(data_json)\n",
    "movies_rating_df.head(20)"
   ]
  },
  {
   "cell_type": "code",
   "execution_count": 179,
   "metadata": {},
   "outputs": [
    {
     "output_type": "execute_result",
     "data": {
      "text/plain": [
       "(100003, 4)"
      ]
     },
     "metadata": {},
     "execution_count": 179
    }
   ],
   "source": [
    "movies_rating_df.shape"
   ]
  },
  {
   "cell_type": "code",
   "execution_count": 180,
   "metadata": {},
   "outputs": [
    {
     "output_type": "execute_result",
     "data": {
      "text/plain": [
       "                                       count      mean       std  min   25%  \\\n",
       "title                                                                         \n",
       "'Til There Was You (1997)                9.0  2.333333  1.000000  1.0  2.00   \n",
       "1-900 (1994)                             5.0  2.600000  1.516575  1.0  1.00   \n",
       "101 Dalmatians (1996)                  109.0  2.908257  1.076184  1.0  2.00   \n",
       "12 Angry Men (1957)                    125.0  4.344000  0.719588  2.0  4.00   \n",
       "187 (1997)                              41.0  3.024390  1.172344  1.0  2.00   \n",
       "...                                      ...       ...       ...  ...   ...   \n",
       "Young Guns II (1990)                    44.0  2.772727  1.008421  1.0  2.00   \n",
       "Young Poisoner's Handbook, The (1995)   41.0  3.341463  1.237129  1.0  3.00   \n",
       "Zeus and Roxanne (1997)                  6.0  2.166667  0.983192  1.0  1.25   \n",
       "unknown                                  9.0  3.444444  1.130388  1.0  3.00   \n",
       "Á köldum klaka (Cold Fever) (1994)       1.0  3.000000       NaN  3.0  3.00   \n",
       "\n",
       "                                       50%  75%  max  \n",
       "title                                                 \n",
       "'Til There Was You (1997)              2.0  3.0  4.0  \n",
       "1-900 (1994)                           3.0  4.0  4.0  \n",
       "101 Dalmatians (1996)                  3.0  4.0  5.0  \n",
       "12 Angry Men (1957)                    4.0  5.0  5.0  \n",
       "187 (1997)                             3.0  4.0  5.0  \n",
       "...                                    ...  ...  ...  \n",
       "Young Guns II (1990)                   3.0  3.0  5.0  \n",
       "Young Poisoner's Handbook, The (1995)  4.0  4.0  5.0  \n",
       "Zeus and Roxanne (1997)                2.5  3.0  3.0  \n",
       "unknown                                4.0  4.0  5.0  \n",
       "Á köldum klaka (Cold Fever) (1994)     3.0  3.0  3.0  \n",
       "\n",
       "[1664 rows x 8 columns]"
      ],
      "text/html": "<div>\n<style scoped>\n    .dataframe tbody tr th:only-of-type {\n        vertical-align: middle;\n    }\n\n    .dataframe tbody tr th {\n        vertical-align: top;\n    }\n\n    .dataframe thead th {\n        text-align: right;\n    }\n</style>\n<table border=\"1\" class=\"dataframe\">\n  <thead>\n    <tr style=\"text-align: right;\">\n      <th></th>\n      <th>count</th>\n      <th>mean</th>\n      <th>std</th>\n      <th>min</th>\n      <th>25%</th>\n      <th>50%</th>\n      <th>75%</th>\n      <th>max</th>\n    </tr>\n    <tr>\n      <th>title</th>\n      <th></th>\n      <th></th>\n      <th></th>\n      <th></th>\n      <th></th>\n      <th></th>\n      <th></th>\n      <th></th>\n    </tr>\n  </thead>\n  <tbody>\n    <tr>\n      <th>'Til There Was You (1997)</th>\n      <td>9.0</td>\n      <td>2.333333</td>\n      <td>1.000000</td>\n      <td>1.0</td>\n      <td>2.00</td>\n      <td>2.0</td>\n      <td>3.0</td>\n      <td>4.0</td>\n    </tr>\n    <tr>\n      <th>1-900 (1994)</th>\n      <td>5.0</td>\n      <td>2.600000</td>\n      <td>1.516575</td>\n      <td>1.0</td>\n      <td>1.00</td>\n      <td>3.0</td>\n      <td>4.0</td>\n      <td>4.0</td>\n    </tr>\n    <tr>\n      <th>101 Dalmatians (1996)</th>\n      <td>109.0</td>\n      <td>2.908257</td>\n      <td>1.076184</td>\n      <td>1.0</td>\n      <td>2.00</td>\n      <td>3.0</td>\n      <td>4.0</td>\n      <td>5.0</td>\n    </tr>\n    <tr>\n      <th>12 Angry Men (1957)</th>\n      <td>125.0</td>\n      <td>4.344000</td>\n      <td>0.719588</td>\n      <td>2.0</td>\n      <td>4.00</td>\n      <td>4.0</td>\n      <td>5.0</td>\n      <td>5.0</td>\n    </tr>\n    <tr>\n      <th>187 (1997)</th>\n      <td>41.0</td>\n      <td>3.024390</td>\n      <td>1.172344</td>\n      <td>1.0</td>\n      <td>2.00</td>\n      <td>3.0</td>\n      <td>4.0</td>\n      <td>5.0</td>\n    </tr>\n    <tr>\n      <th>...</th>\n      <td>...</td>\n      <td>...</td>\n      <td>...</td>\n      <td>...</td>\n      <td>...</td>\n      <td>...</td>\n      <td>...</td>\n      <td>...</td>\n    </tr>\n    <tr>\n      <th>Young Guns II (1990)</th>\n      <td>44.0</td>\n      <td>2.772727</td>\n      <td>1.008421</td>\n      <td>1.0</td>\n      <td>2.00</td>\n      <td>3.0</td>\n      <td>3.0</td>\n      <td>5.0</td>\n    </tr>\n    <tr>\n      <th>Young Poisoner's Handbook, The (1995)</th>\n      <td>41.0</td>\n      <td>3.341463</td>\n      <td>1.237129</td>\n      <td>1.0</td>\n      <td>3.00</td>\n      <td>4.0</td>\n      <td>4.0</td>\n      <td>5.0</td>\n    </tr>\n    <tr>\n      <th>Zeus and Roxanne (1997)</th>\n      <td>6.0</td>\n      <td>2.166667</td>\n      <td>0.983192</td>\n      <td>1.0</td>\n      <td>1.25</td>\n      <td>2.5</td>\n      <td>3.0</td>\n      <td>3.0</td>\n    </tr>\n    <tr>\n      <th>unknown</th>\n      <td>9.0</td>\n      <td>3.444444</td>\n      <td>1.130388</td>\n      <td>1.0</td>\n      <td>3.00</td>\n      <td>4.0</td>\n      <td>4.0</td>\n      <td>5.0</td>\n    </tr>\n    <tr>\n      <th>Á köldum klaka (Cold Fever) (1994)</th>\n      <td>1.0</td>\n      <td>3.000000</td>\n      <td>NaN</td>\n      <td>3.0</td>\n      <td>3.00</td>\n      <td>3.0</td>\n      <td>3.0</td>\n      <td>3.0</td>\n    </tr>\n  </tbody>\n</table>\n<p>1664 rows × 8 columns</p>\n</div>"
     },
     "metadata": {},
     "execution_count": 180
    }
   ],
   "source": [
    "movies_rating_df.groupby('title')['rating'].describe()"
   ]
  },
  {
   "cell_type": "code",
   "execution_count": 181,
   "metadata": {
    "tags": []
   },
   "outputs": [
    {
     "output_type": "stream",
     "name": "stdout",
     "text": [
      "{'_id': ObjectId('5fb7058de73f605388efe0a5'), 'user_id': 0, 'item_id': 50, 'rating': 5, 'title': 'Star Wars (1977)'}\n{'_id': ObjectId('5fb7058de73f605388efe0a6'), 'user_id': 290, 'item_id': 50, 'rating': 5, 'title': 'Star Wars (1977)'}\n{'_id': ObjectId('5fb7058de73f605388efe0a7'), 'user_id': 79, 'item_id': 50, 'rating': 4, 'title': 'Star Wars (1977)'}\n{'_id': ObjectId('5fb7058de73f605388efe0a8'), 'user_id': 2, 'item_id': 50, 'rating': 5, 'title': 'Star Wars (1977)'}\n{'_id': ObjectId('5fb7058de73f605388efe0a9'), 'user_id': 8, 'item_id': 50, 'rating': 5, 'title': 'Star Wars (1977)'}\n{'_id': ObjectId('5fb7058de73f605388efe0aa'), 'user_id': 274, 'item_id': 50, 'rating': 5, 'title': 'Star Wars (1977)'}\n{'_id': ObjectId('5fb7058de73f605388efe0ab'), 'user_id': 227, 'item_id': 50, 'rating': 4, 'title': 'Star Wars (1977)'}\n{'_id': ObjectId('5fb7058de73f605388efe0ac'), 'user_id': 99, 'item_id': 50, 'rating': 5, 'title': 'Star Wars (1977)'}\n{'_id': ObjectId('5fb7058de73f605388efe0ad'), 'user_id': 305, 'item_id': 50, 'rating': 5, 'title': 'Star Wars (1977)'}\n{'_id': ObjectId('5fb7058de73f605388efe0ae'), 'user_id': 108, 'item_id': 50, 'rating': 4, 'title': 'Star Wars (1977)'}\n"
     ]
    }
   ],
   "source": [
    "results = movies_merge_with_ratings.find({'title':'Star Wars (1977)'}).limit(10)\n",
    "for user in results:\n",
    "    print(user)"
   ]
  },
  {
   "cell_type": "code",
   "execution_count": 237,
   "metadata": {},
   "outputs": [
    {
     "output_type": "execute_result",
     "data": {
      "text/plain": [
       "[{'_id': 'Streetcar Named Desire, A (1951)', 'avgRatings': 3.816326530612245},\n",
       " {'_id': 'Quiet Room, The (1996)', 'avgRatings': 3.6666666666666665},\n",
       " {'_id': 'Seventh Seal, The (Sjunde inseglet, Det) (1957)',\n",
       "  'avgRatings': 3.5416666666666665},\n",
       " {'_id': 'My Crazy Life (Mi vida loca) (1993)',\n",
       "  'avgRatings': 3.1818181818181817},\n",
       " {'_id': 'Stalingrad (1993)', 'avgRatings': 3.1666666666666665},\n",
       " {'_id': 'Bread and Chocolate (Pane e cioccolata) (1973)',\n",
       "  'avgRatings': 3.1666666666666665},\n",
       " {'_id': 'House of the Spirits, The (1993)', 'avgRatings': 3.0416666666666665},\n",
       " {'_id': 'Across the Sea of Time (1995)', 'avgRatings': 2.75},\n",
       " {'_id': 'Event Horizon (1997)', 'avgRatings': 2.574803149606299},\n",
       " {'_id': 'Lotto Land (1995)', 'avgRatings': 1.0}]"
      ]
     },
     "metadata": {},
     "execution_count": 237
    }
   ],
   "source": [
    "#Average rating for movies\n",
    "\n",
    "pipeline = [\n",
    "    {\"$group\": {\"_id\": \"$title\", \"avgRatings\": {\"$avg\":\"$rating\"}}},\n",
    "    {\"$limit\": 10},\n",
    "    { \"$sort\" : { \"avgRatings\" : -1 } }\n",
    "]\n",
    "\n",
    "aggrRatings = movies_merge_with_ratings.aggregate(pipeline)\n",
    "resultAggrRatings = list(aggrRatings)\n",
    "resultAggrRatings"
   ]
  },
  {
   "cell_type": "code",
   "execution_count": 235,
   "metadata": {},
   "outputs": [
    {
     "output_type": "execute_result",
     "data": {
      "text/plain": [
       "[{'_id': 'French Kiss (1995)', 'count': 84},\n",
       " {'_id': 'Mouse Hunt (1997)', 'count': 44},\n",
       " {'_id': '187 (1997)', 'count': 41},\n",
       " {'_id': 'That Darn Cat! (1997)', 'count': 41},\n",
       " {'_id': 'Portrait of a Lady, The (1996)', 'count': 25},\n",
       " {'_id': 'Live Nude Girls (1995)', 'count': 23},\n",
       " {'_id': 'Pagemaster, The (1994)', 'count': 12},\n",
       " {'_id': 'What Happened Was... (1994)', 'count': 8},\n",
       " {'_id': 'Frankie Starlight (1995)', 'count': 4},\n",
       " {'_id': 'Lashou shentan (1992)', 'count': 1}]"
      ]
     },
     "metadata": {},
     "execution_count": 235
    }
   ],
   "source": [
    "#Group by movies\n",
    "\n",
    "pipeline = [\n",
    "    {\"$group\": {\"_id\": \"$title\", \"count\": {\"$sum\":1}}},\n",
    "    {\"$limit\": 10},\n",
    "    { \"$sort\" : { \"count\" : -1 } }\n",
    "]\n",
    "\n",
    "count = movies_merge_with_ratings.aggregate(pipeline)\n",
    "resultCount = list(count)\n",
    "resultCount"
   ]
  },
  {
   "cell_type": "code",
   "execution_count": 225,
   "metadata": {},
   "outputs": [
    {
     "output_type": "execute_result",
     "data": {
      "text/plain": [
       "[{'_id': 'Stalingrad (1993)',\n",
       "  'users': [288, 312, 158, 405, 60, 463, 387, 7, 916, 181, 825, 449]}]"
      ]
     },
     "metadata": {},
     "execution_count": 225
    }
   ],
   "source": [
    "#identify which user gave ratings to movies\n",
    "\n",
    "pipeline1 = [\n",
    "    {\"$group\": {\"_id\": \"$title\", \"users\": {\"$push\":\"$user_id\"}}},\n",
    "    { \"$limit\" : 1 }\n",
    "]\n",
    "\n",
    "cursor1 = movies_merge_with_ratings.aggregate(pipeline1)\n",
    "r1 = list(cursor1)\n",
    "r1"
   ]
  },
  {
   "cell_type": "code",
   "execution_count": 184,
   "metadata": {},
   "outputs": [],
   "source": [
    "ratings_df_mean = movies_rating_df.groupby('title')['rating'].describe()['mean']"
   ]
  },
  {
   "cell_type": "code",
   "execution_count": 185,
   "metadata": {},
   "outputs": [],
   "source": [
    "ratings_df_count = movies_rating_df.groupby('title')['rating'].describe()['count']"
   ]
  },
  {
   "cell_type": "code",
   "execution_count": 186,
   "metadata": {},
   "outputs": [],
   "source": [
    "ratings_mean_count_df = pd.concat([ratings_df_count, ratings_df_mean], axis = 1)"
   ]
  },
  {
   "cell_type": "code",
   "execution_count": 187,
   "metadata": {},
   "outputs": [
    {
     "output_type": "execute_result",
     "data": {
      "text/plain": [
       "                                      title  count      mean\n",
       "0                 'Til There Was You (1997)    9.0  2.333333\n",
       "1                              1-900 (1994)    5.0  2.600000\n",
       "2                     101 Dalmatians (1996)  109.0  2.908257\n",
       "3                       12 Angry Men (1957)  125.0  4.344000\n",
       "4                                187 (1997)   41.0  3.024390\n",
       "...                                     ...    ...       ...\n",
       "1659                   Young Guns II (1990)   44.0  2.772727\n",
       "1660  Young Poisoner's Handbook, The (1995)   41.0  3.341463\n",
       "1661                Zeus and Roxanne (1997)    6.0  2.166667\n",
       "1662                                unknown    9.0  3.444444\n",
       "1663     Á köldum klaka (Cold Fever) (1994)    1.0  3.000000\n",
       "\n",
       "[1664 rows x 3 columns]"
      ],
      "text/html": "<div>\n<style scoped>\n    .dataframe tbody tr th:only-of-type {\n        vertical-align: middle;\n    }\n\n    .dataframe tbody tr th {\n        vertical-align: top;\n    }\n\n    .dataframe thead th {\n        text-align: right;\n    }\n</style>\n<table border=\"1\" class=\"dataframe\">\n  <thead>\n    <tr style=\"text-align: right;\">\n      <th></th>\n      <th>title</th>\n      <th>count</th>\n      <th>mean</th>\n    </tr>\n  </thead>\n  <tbody>\n    <tr>\n      <th>0</th>\n      <td>'Til There Was You (1997)</td>\n      <td>9.0</td>\n      <td>2.333333</td>\n    </tr>\n    <tr>\n      <th>1</th>\n      <td>1-900 (1994)</td>\n      <td>5.0</td>\n      <td>2.600000</td>\n    </tr>\n    <tr>\n      <th>2</th>\n      <td>101 Dalmatians (1996)</td>\n      <td>109.0</td>\n      <td>2.908257</td>\n    </tr>\n    <tr>\n      <th>3</th>\n      <td>12 Angry Men (1957)</td>\n      <td>125.0</td>\n      <td>4.344000</td>\n    </tr>\n    <tr>\n      <th>4</th>\n      <td>187 (1997)</td>\n      <td>41.0</td>\n      <td>3.024390</td>\n    </tr>\n    <tr>\n      <th>...</th>\n      <td>...</td>\n      <td>...</td>\n      <td>...</td>\n    </tr>\n    <tr>\n      <th>1659</th>\n      <td>Young Guns II (1990)</td>\n      <td>44.0</td>\n      <td>2.772727</td>\n    </tr>\n    <tr>\n      <th>1660</th>\n      <td>Young Poisoner's Handbook, The (1995)</td>\n      <td>41.0</td>\n      <td>3.341463</td>\n    </tr>\n    <tr>\n      <th>1661</th>\n      <td>Zeus and Roxanne (1997)</td>\n      <td>6.0</td>\n      <td>2.166667</td>\n    </tr>\n    <tr>\n      <th>1662</th>\n      <td>unknown</td>\n      <td>9.0</td>\n      <td>3.444444</td>\n    </tr>\n    <tr>\n      <th>1663</th>\n      <td>Á köldum klaka (Cold Fever) (1994)</td>\n      <td>1.0</td>\n      <td>3.000000</td>\n    </tr>\n  </tbody>\n</table>\n<p>1664 rows × 3 columns</p>\n</div>"
     },
     "metadata": {},
     "execution_count": 187
    }
   ],
   "source": [
    "ratings_mean_count_df.reset_index()"
   ]
  },
  {
   "cell_type": "code",
   "execution_count": 188,
   "metadata": {},
   "outputs": [
    {
     "output_type": "execute_result",
     "data": {
      "text/plain": [
       "                                                   count  mean\n",
       "title                                                         \n",
       "Aiqing wansui (1994)                                 1.0   5.0\n",
       "Entertaining Angels: The Dorothy Day Story (1996)    1.0   5.0\n",
       "Great Day in Harlem, A (1994)                        1.0   5.0\n",
       "Marlene Dietrich: Shadow and Light (1996)            1.0   5.0\n",
       "Prefontaine (1997)                                   3.0   5.0\n",
       "Saint of Fort Washington, The (1993)                 2.0   5.0\n",
       "Santa with Muscles (1996)                            2.0   5.0\n",
       "Someone Else's America (1995)                        1.0   5.0\n",
       "Star Kid (1997)                                      3.0   5.0\n",
       "They Made Me a Criminal (1939)                       1.0   5.0"
      ],
      "text/html": "<div>\n<style scoped>\n    .dataframe tbody tr th:only-of-type {\n        vertical-align: middle;\n    }\n\n    .dataframe tbody tr th {\n        vertical-align: top;\n    }\n\n    .dataframe thead th {\n        text-align: right;\n    }\n</style>\n<table border=\"1\" class=\"dataframe\">\n  <thead>\n    <tr style=\"text-align: right;\">\n      <th></th>\n      <th>count</th>\n      <th>mean</th>\n    </tr>\n    <tr>\n      <th>title</th>\n      <th></th>\n      <th></th>\n    </tr>\n  </thead>\n  <tbody>\n    <tr>\n      <th>Aiqing wansui (1994)</th>\n      <td>1.0</td>\n      <td>5.0</td>\n    </tr>\n    <tr>\n      <th>Entertaining Angels: The Dorothy Day Story (1996)</th>\n      <td>1.0</td>\n      <td>5.0</td>\n    </tr>\n    <tr>\n      <th>Great Day in Harlem, A (1994)</th>\n      <td>1.0</td>\n      <td>5.0</td>\n    </tr>\n    <tr>\n      <th>Marlene Dietrich: Shadow and Light (1996)</th>\n      <td>1.0</td>\n      <td>5.0</td>\n    </tr>\n    <tr>\n      <th>Prefontaine (1997)</th>\n      <td>3.0</td>\n      <td>5.0</td>\n    </tr>\n    <tr>\n      <th>Saint of Fort Washington, The (1993)</th>\n      <td>2.0</td>\n      <td>5.0</td>\n    </tr>\n    <tr>\n      <th>Santa with Muscles (1996)</th>\n      <td>2.0</td>\n      <td>5.0</td>\n    </tr>\n    <tr>\n      <th>Someone Else's America (1995)</th>\n      <td>1.0</td>\n      <td>5.0</td>\n    </tr>\n    <tr>\n      <th>Star Kid (1997)</th>\n      <td>3.0</td>\n      <td>5.0</td>\n    </tr>\n    <tr>\n      <th>They Made Me a Criminal (1939)</th>\n      <td>1.0</td>\n      <td>5.0</td>\n    </tr>\n  </tbody>\n</table>\n</div>"
     },
     "metadata": {},
     "execution_count": 188
    }
   ],
   "source": [
    "ratings_mean_count_df[ratings_mean_count_df['mean'] == 5]"
   ]
  },
  {
   "cell_type": "code",
   "execution_count": 189,
   "metadata": {},
   "outputs": [
    {
     "output_type": "execute_result",
     "data": {
      "text/plain": [
       "                              count      mean\n",
       "title                                        \n",
       "Star Wars (1977)              584.0  4.359589\n",
       "Contact (1997)                509.0  3.803536\n",
       "Fargo (1996)                  508.0  4.155512\n",
       "Return of the Jedi (1983)     507.0  4.007890\n",
       "Liar Liar (1997)              485.0  3.156701\n",
       "...                             ...       ...\n",
       "Aladdin (1992)                219.0  3.812785\n",
       "Babe (1995)                   219.0  3.995434\n",
       "Volcano (1997)                219.0  2.808219\n",
       "To Kill a Mockingbird (1962)  219.0  4.292237\n",
       "Murder at 1600 (1997)         218.0  3.087156\n",
       "\n",
       "[100 rows x 2 columns]"
      ],
      "text/html": "<div>\n<style scoped>\n    .dataframe tbody tr th:only-of-type {\n        vertical-align: middle;\n    }\n\n    .dataframe tbody tr th {\n        vertical-align: top;\n    }\n\n    .dataframe thead th {\n        text-align: right;\n    }\n</style>\n<table border=\"1\" class=\"dataframe\">\n  <thead>\n    <tr style=\"text-align: right;\">\n      <th></th>\n      <th>count</th>\n      <th>mean</th>\n    </tr>\n    <tr>\n      <th>title</th>\n      <th></th>\n      <th></th>\n    </tr>\n  </thead>\n  <tbody>\n    <tr>\n      <th>Star Wars (1977)</th>\n      <td>584.0</td>\n      <td>4.359589</td>\n    </tr>\n    <tr>\n      <th>Contact (1997)</th>\n      <td>509.0</td>\n      <td>3.803536</td>\n    </tr>\n    <tr>\n      <th>Fargo (1996)</th>\n      <td>508.0</td>\n      <td>4.155512</td>\n    </tr>\n    <tr>\n      <th>Return of the Jedi (1983)</th>\n      <td>507.0</td>\n      <td>4.007890</td>\n    </tr>\n    <tr>\n      <th>Liar Liar (1997)</th>\n      <td>485.0</td>\n      <td>3.156701</td>\n    </tr>\n    <tr>\n      <th>...</th>\n      <td>...</td>\n      <td>...</td>\n    </tr>\n    <tr>\n      <th>Aladdin (1992)</th>\n      <td>219.0</td>\n      <td>3.812785</td>\n    </tr>\n    <tr>\n      <th>Babe (1995)</th>\n      <td>219.0</td>\n      <td>3.995434</td>\n    </tr>\n    <tr>\n      <th>Volcano (1997)</th>\n      <td>219.0</td>\n      <td>2.808219</td>\n    </tr>\n    <tr>\n      <th>To Kill a Mockingbird (1962)</th>\n      <td>219.0</td>\n      <td>4.292237</td>\n    </tr>\n    <tr>\n      <th>Murder at 1600 (1997)</th>\n      <td>218.0</td>\n      <td>3.087156</td>\n    </tr>\n  </tbody>\n</table>\n<p>100 rows × 2 columns</p>\n</div>"
     },
     "metadata": {},
     "execution_count": 189
    }
   ],
   "source": [
    "ratings_mean_count_df.sort_values('count', ascending = False).head(100)"
   ]
  },
  {
   "cell_type": "code",
   "execution_count": 190,
   "metadata": {},
   "outputs": [],
   "source": [
    "userid_movietitle_matrix = movies_rating_df.pivot_table(index = 'user_id', columns = 'title', values = 'rating')"
   ]
  },
  {
   "cell_type": "code",
   "execution_count": 191,
   "metadata": {},
   "outputs": [
    {
     "output_type": "execute_result",
     "data": {
      "text/plain": [
       "title    'Til There Was You (1997)  1-900 (1994)  101 Dalmatians (1996)  \\\n",
       "user_id                                                                   \n",
       "0                              NaN           NaN                    NaN   \n",
       "1                              NaN           NaN                    2.0   \n",
       "2                              NaN           NaN                    NaN   \n",
       "3                              NaN           NaN                    NaN   \n",
       "4                              NaN           NaN                    NaN   \n",
       "...                            ...           ...                    ...   \n",
       "939                            NaN           NaN                    NaN   \n",
       "940                            NaN           NaN                    NaN   \n",
       "941                            NaN           NaN                    NaN   \n",
       "942                            NaN           NaN                    NaN   \n",
       "943                            NaN           NaN                    NaN   \n",
       "\n",
       "title    12 Angry Men (1957)  187 (1997)  2 Days in the Valley (1996)  \\\n",
       "user_id                                                                 \n",
       "0                        NaN         NaN                          NaN   \n",
       "1                        5.0         NaN                          NaN   \n",
       "2                        NaN         NaN                          NaN   \n",
       "3                        NaN         2.0                          NaN   \n",
       "4                        NaN         NaN                          NaN   \n",
       "...                      ...         ...                          ...   \n",
       "939                      NaN         NaN                          NaN   \n",
       "940                      NaN         NaN                          NaN   \n",
       "941                      NaN         NaN                          NaN   \n",
       "942                      NaN         NaN                          NaN   \n",
       "943                      NaN         NaN                          2.0   \n",
       "\n",
       "title    20,000 Leagues Under the Sea (1954)  2001: A Space Odyssey (1968)  \\\n",
       "user_id                                                                      \n",
       "0                                        NaN                           NaN   \n",
       "1                                        3.0                           4.0   \n",
       "2                                        NaN                           NaN   \n",
       "3                                        NaN                           NaN   \n",
       "4                                        NaN                           NaN   \n",
       "...                                      ...                           ...   \n",
       "939                                      NaN                           NaN   \n",
       "940                                      NaN                           NaN   \n",
       "941                                      NaN                           NaN   \n",
       "942                                      NaN                           3.0   \n",
       "943                                      NaN                           NaN   \n",
       "\n",
       "title    3 Ninjas: High Noon At Mega Mountain (1998)  39 Steps, The (1935)  \\\n",
       "user_id                                                                      \n",
       "0                                                NaN                   NaN   \n",
       "1                                                NaN                   NaN   \n",
       "2                                                1.0                   NaN   \n",
       "3                                                NaN                   NaN   \n",
       "4                                                NaN                   NaN   \n",
       "...                                              ...                   ...   \n",
       "939                                              NaN                   NaN   \n",
       "940                                              NaN                   NaN   \n",
       "941                                              NaN                   NaN   \n",
       "942                                              NaN                   3.0   \n",
       "943                                              NaN                   NaN   \n",
       "\n",
       "title    ...  Yankee Zulu (1994)  Year of the Horse (1997)  \\\n",
       "user_id  ...                                                 \n",
       "0        ...                 NaN                       NaN   \n",
       "1        ...                 NaN                       NaN   \n",
       "2        ...                 NaN                       NaN   \n",
       "3        ...                 NaN                       NaN   \n",
       "4        ...                 NaN                       NaN   \n",
       "...      ...                 ...                       ...   \n",
       "939      ...                 NaN                       NaN   \n",
       "940      ...                 NaN                       NaN   \n",
       "941      ...                 NaN                       NaN   \n",
       "942      ...                 NaN                       NaN   \n",
       "943      ...                 NaN                       NaN   \n",
       "\n",
       "title    You So Crazy (1994)  Young Frankenstein (1974)  Young Guns (1988)  \\\n",
       "user_id                                                                      \n",
       "0                        NaN                        NaN                NaN   \n",
       "1                        NaN                        5.0                3.0   \n",
       "2                        NaN                        NaN                NaN   \n",
       "3                        NaN                        NaN                NaN   \n",
       "4                        NaN                        NaN                NaN   \n",
       "...                      ...                        ...                ...   \n",
       "939                      NaN                        NaN                NaN   \n",
       "940                      NaN                        NaN                NaN   \n",
       "941                      NaN                        NaN                NaN   \n",
       "942                      NaN                        NaN                NaN   \n",
       "943                      NaN                        NaN                4.0   \n",
       "\n",
       "title    Young Guns II (1990)  Young Poisoner's Handbook, The (1995)  \\\n",
       "user_id                                                                \n",
       "0                         NaN                                    NaN   \n",
       "1                         NaN                                    NaN   \n",
       "2                         NaN                                    NaN   \n",
       "3                         NaN                                    NaN   \n",
       "4                         NaN                                    NaN   \n",
       "...                       ...                                    ...   \n",
       "939                       NaN                                    NaN   \n",
       "940                       NaN                                    NaN   \n",
       "941                       NaN                                    NaN   \n",
       "942                       NaN                                    NaN   \n",
       "943                       3.0                                    NaN   \n",
       "\n",
       "title    Zeus and Roxanne (1997)  unknown  Á köldum klaka (Cold Fever) (1994)  \n",
       "user_id                                                                        \n",
       "0                            NaN      NaN                                 NaN  \n",
       "1                            NaN      4.0                                 NaN  \n",
       "2                            NaN      NaN                                 NaN  \n",
       "3                            NaN      NaN                                 NaN  \n",
       "4                            NaN      NaN                                 NaN  \n",
       "...                          ...      ...                                 ...  \n",
       "939                          NaN      NaN                                 NaN  \n",
       "940                          NaN      NaN                                 NaN  \n",
       "941                          NaN      NaN                                 NaN  \n",
       "942                          NaN      NaN                                 NaN  \n",
       "943                          NaN      NaN                                 NaN  \n",
       "\n",
       "[944 rows x 1664 columns]"
      ],
      "text/html": "<div>\n<style scoped>\n    .dataframe tbody tr th:only-of-type {\n        vertical-align: middle;\n    }\n\n    .dataframe tbody tr th {\n        vertical-align: top;\n    }\n\n    .dataframe thead th {\n        text-align: right;\n    }\n</style>\n<table border=\"1\" class=\"dataframe\">\n  <thead>\n    <tr style=\"text-align: right;\">\n      <th>title</th>\n      <th>'Til There Was You (1997)</th>\n      <th>1-900 (1994)</th>\n      <th>101 Dalmatians (1996)</th>\n      <th>12 Angry Men (1957)</th>\n      <th>187 (1997)</th>\n      <th>2 Days in the Valley (1996)</th>\n      <th>20,000 Leagues Under the Sea (1954)</th>\n      <th>2001: A Space Odyssey (1968)</th>\n      <th>3 Ninjas: High Noon At Mega Mountain (1998)</th>\n      <th>39 Steps, The (1935)</th>\n      <th>...</th>\n      <th>Yankee Zulu (1994)</th>\n      <th>Year of the Horse (1997)</th>\n      <th>You So Crazy (1994)</th>\n      <th>Young Frankenstein (1974)</th>\n      <th>Young Guns (1988)</th>\n      <th>Young Guns II (1990)</th>\n      <th>Young Poisoner's Handbook, The (1995)</th>\n      <th>Zeus and Roxanne (1997)</th>\n      <th>unknown</th>\n      <th>Á köldum klaka (Cold Fever) (1994)</th>\n    </tr>\n    <tr>\n      <th>user_id</th>\n      <th></th>\n      <th></th>\n      <th></th>\n      <th></th>\n      <th></th>\n      <th></th>\n      <th></th>\n      <th></th>\n      <th></th>\n      <th></th>\n      <th></th>\n      <th></th>\n      <th></th>\n      <th></th>\n      <th></th>\n      <th></th>\n      <th></th>\n      <th></th>\n      <th></th>\n      <th></th>\n      <th></th>\n    </tr>\n  </thead>\n  <tbody>\n    <tr>\n      <th>0</th>\n      <td>NaN</td>\n      <td>NaN</td>\n      <td>NaN</td>\n      <td>NaN</td>\n      <td>NaN</td>\n      <td>NaN</td>\n      <td>NaN</td>\n      <td>NaN</td>\n      <td>NaN</td>\n      <td>NaN</td>\n      <td>...</td>\n      <td>NaN</td>\n      <td>NaN</td>\n      <td>NaN</td>\n      <td>NaN</td>\n      <td>NaN</td>\n      <td>NaN</td>\n      <td>NaN</td>\n      <td>NaN</td>\n      <td>NaN</td>\n      <td>NaN</td>\n    </tr>\n    <tr>\n      <th>1</th>\n      <td>NaN</td>\n      <td>NaN</td>\n      <td>2.0</td>\n      <td>5.0</td>\n      <td>NaN</td>\n      <td>NaN</td>\n      <td>3.0</td>\n      <td>4.0</td>\n      <td>NaN</td>\n      <td>NaN</td>\n      <td>...</td>\n      <td>NaN</td>\n      <td>NaN</td>\n      <td>NaN</td>\n      <td>5.0</td>\n      <td>3.0</td>\n      <td>NaN</td>\n      <td>NaN</td>\n      <td>NaN</td>\n      <td>4.0</td>\n      <td>NaN</td>\n    </tr>\n    <tr>\n      <th>2</th>\n      <td>NaN</td>\n      <td>NaN</td>\n      <td>NaN</td>\n      <td>NaN</td>\n      <td>NaN</td>\n      <td>NaN</td>\n      <td>NaN</td>\n      <td>NaN</td>\n      <td>1.0</td>\n      <td>NaN</td>\n      <td>...</td>\n      <td>NaN</td>\n      <td>NaN</td>\n      <td>NaN</td>\n      <td>NaN</td>\n      <td>NaN</td>\n      <td>NaN</td>\n      <td>NaN</td>\n      <td>NaN</td>\n      <td>NaN</td>\n      <td>NaN</td>\n    </tr>\n    <tr>\n      <th>3</th>\n      <td>NaN</td>\n      <td>NaN</td>\n      <td>NaN</td>\n      <td>NaN</td>\n      <td>2.0</td>\n      <td>NaN</td>\n      <td>NaN</td>\n      <td>NaN</td>\n      <td>NaN</td>\n      <td>NaN</td>\n      <td>...</td>\n      <td>NaN</td>\n      <td>NaN</td>\n      <td>NaN</td>\n      <td>NaN</td>\n      <td>NaN</td>\n      <td>NaN</td>\n      <td>NaN</td>\n      <td>NaN</td>\n      <td>NaN</td>\n      <td>NaN</td>\n    </tr>\n    <tr>\n      <th>4</th>\n      <td>NaN</td>\n      <td>NaN</td>\n      <td>NaN</td>\n      <td>NaN</td>\n      <td>NaN</td>\n      <td>NaN</td>\n      <td>NaN</td>\n      <td>NaN</td>\n      <td>NaN</td>\n      <td>NaN</td>\n      <td>...</td>\n      <td>NaN</td>\n      <td>NaN</td>\n      <td>NaN</td>\n      <td>NaN</td>\n      <td>NaN</td>\n      <td>NaN</td>\n      <td>NaN</td>\n      <td>NaN</td>\n      <td>NaN</td>\n      <td>NaN</td>\n    </tr>\n    <tr>\n      <th>...</th>\n      <td>...</td>\n      <td>...</td>\n      <td>...</td>\n      <td>...</td>\n      <td>...</td>\n      <td>...</td>\n      <td>...</td>\n      <td>...</td>\n      <td>...</td>\n      <td>...</td>\n      <td>...</td>\n      <td>...</td>\n      <td>...</td>\n      <td>...</td>\n      <td>...</td>\n      <td>...</td>\n      <td>...</td>\n      <td>...</td>\n      <td>...</td>\n      <td>...</td>\n      <td>...</td>\n    </tr>\n    <tr>\n      <th>939</th>\n      <td>NaN</td>\n      <td>NaN</td>\n      <td>NaN</td>\n      <td>NaN</td>\n      <td>NaN</td>\n      <td>NaN</td>\n      <td>NaN</td>\n      <td>NaN</td>\n      <td>NaN</td>\n      <td>NaN</td>\n      <td>...</td>\n      <td>NaN</td>\n      <td>NaN</td>\n      <td>NaN</td>\n      <td>NaN</td>\n      <td>NaN</td>\n      <td>NaN</td>\n      <td>NaN</td>\n      <td>NaN</td>\n      <td>NaN</td>\n      <td>NaN</td>\n    </tr>\n    <tr>\n      <th>940</th>\n      <td>NaN</td>\n      <td>NaN</td>\n      <td>NaN</td>\n      <td>NaN</td>\n      <td>NaN</td>\n      <td>NaN</td>\n      <td>NaN</td>\n      <td>NaN</td>\n      <td>NaN</td>\n      <td>NaN</td>\n      <td>...</td>\n      <td>NaN</td>\n      <td>NaN</td>\n      <td>NaN</td>\n      <td>NaN</td>\n      <td>NaN</td>\n      <td>NaN</td>\n      <td>NaN</td>\n      <td>NaN</td>\n      <td>NaN</td>\n      <td>NaN</td>\n    </tr>\n    <tr>\n      <th>941</th>\n      <td>NaN</td>\n      <td>NaN</td>\n      <td>NaN</td>\n      <td>NaN</td>\n      <td>NaN</td>\n      <td>NaN</td>\n      <td>NaN</td>\n      <td>NaN</td>\n      <td>NaN</td>\n      <td>NaN</td>\n      <td>...</td>\n      <td>NaN</td>\n      <td>NaN</td>\n      <td>NaN</td>\n      <td>NaN</td>\n      <td>NaN</td>\n      <td>NaN</td>\n      <td>NaN</td>\n      <td>NaN</td>\n      <td>NaN</td>\n      <td>NaN</td>\n    </tr>\n    <tr>\n      <th>942</th>\n      <td>NaN</td>\n      <td>NaN</td>\n      <td>NaN</td>\n      <td>NaN</td>\n      <td>NaN</td>\n      <td>NaN</td>\n      <td>NaN</td>\n      <td>3.0</td>\n      <td>NaN</td>\n      <td>3.0</td>\n      <td>...</td>\n      <td>NaN</td>\n      <td>NaN</td>\n      <td>NaN</td>\n      <td>NaN</td>\n      <td>NaN</td>\n      <td>NaN</td>\n      <td>NaN</td>\n      <td>NaN</td>\n      <td>NaN</td>\n      <td>NaN</td>\n    </tr>\n    <tr>\n      <th>943</th>\n      <td>NaN</td>\n      <td>NaN</td>\n      <td>NaN</td>\n      <td>NaN</td>\n      <td>NaN</td>\n      <td>2.0</td>\n      <td>NaN</td>\n      <td>NaN</td>\n      <td>NaN</td>\n      <td>NaN</td>\n      <td>...</td>\n      <td>NaN</td>\n      <td>NaN</td>\n      <td>NaN</td>\n      <td>NaN</td>\n      <td>4.0</td>\n      <td>3.0</td>\n      <td>NaN</td>\n      <td>NaN</td>\n      <td>NaN</td>\n      <td>NaN</td>\n    </tr>\n  </tbody>\n</table>\n<p>944 rows × 1664 columns</p>\n</div>"
     },
     "metadata": {},
     "execution_count": 191
    }
   ],
   "source": [
    "userid_movietitle_matrix"
   ]
  },
  {
   "cell_type": "code",
   "execution_count": 192,
   "metadata": {},
   "outputs": [],
   "source": [
    "titanic = userid_movietitle_matrix['Titanic (1997)']"
   ]
  },
  {
   "cell_type": "code",
   "execution_count": 193,
   "metadata": {},
   "outputs": [
    {
     "output_type": "execute_result",
     "data": {
      "text/plain": [
       "user_id\n",
       "0      NaN\n",
       "1      NaN\n",
       "2      5.0\n",
       "3      NaN\n",
       "4      NaN\n",
       "      ... \n",
       "939    NaN\n",
       "940    5.0\n",
       "941    NaN\n",
       "942    3.0\n",
       "943    NaN\n",
       "Name: Titanic (1997), Length: 944, dtype: float64"
      ]
     },
     "metadata": {},
     "execution_count": 193
    }
   ],
   "source": [
    "titanic"
   ]
  },
  {
   "cell_type": "code",
   "execution_count": 194,
   "metadata": {},
   "outputs": [],
   "source": [
    "# Let's calculate the correlations\n",
    "titanic_correlations = pd.DataFrame(userid_movietitle_matrix.corrwith(titanic), columns=['Correlation'])\n",
    "titanic_correlations = titanic_correlations.join(ratings_mean_count_df['count'])"
   ]
  },
  {
   "cell_type": "code",
   "execution_count": 195,
   "metadata": {},
   "outputs": [
    {
     "output_type": "execute_result",
     "data": {
      "text/plain": [
       "                                       Correlation  count\n",
       "title                                                    \n",
       "'Til There Was You (1997)                -0.062017    9.0\n",
       "1-900 (1994)                                   NaN    5.0\n",
       "101 Dalmatians (1996)                     0.120113  109.0\n",
       "12 Angry Men (1957)                       0.077700  125.0\n",
       "187 (1997)                                0.315654   41.0\n",
       "...                                            ...    ...\n",
       "Young Guns II (1990)                      0.317274   44.0\n",
       "Young Poisoner's Handbook, The (1995)     0.356783   41.0\n",
       "Zeus and Roxanne (1997)                        NaN    6.0\n",
       "unknown                                        NaN    9.0\n",
       "Á köldum klaka (Cold Fever) (1994)             NaN    1.0\n",
       "\n",
       "[1664 rows x 2 columns]"
      ],
      "text/html": "<div>\n<style scoped>\n    .dataframe tbody tr th:only-of-type {\n        vertical-align: middle;\n    }\n\n    .dataframe tbody tr th {\n        vertical-align: top;\n    }\n\n    .dataframe thead th {\n        text-align: right;\n    }\n</style>\n<table border=\"1\" class=\"dataframe\">\n  <thead>\n    <tr style=\"text-align: right;\">\n      <th></th>\n      <th>Correlation</th>\n      <th>count</th>\n    </tr>\n    <tr>\n      <th>title</th>\n      <th></th>\n      <th></th>\n    </tr>\n  </thead>\n  <tbody>\n    <tr>\n      <th>'Til There Was You (1997)</th>\n      <td>-0.062017</td>\n      <td>9.0</td>\n    </tr>\n    <tr>\n      <th>1-900 (1994)</th>\n      <td>NaN</td>\n      <td>5.0</td>\n    </tr>\n    <tr>\n      <th>101 Dalmatians (1996)</th>\n      <td>0.120113</td>\n      <td>109.0</td>\n    </tr>\n    <tr>\n      <th>12 Angry Men (1957)</th>\n      <td>0.077700</td>\n      <td>125.0</td>\n    </tr>\n    <tr>\n      <th>187 (1997)</th>\n      <td>0.315654</td>\n      <td>41.0</td>\n    </tr>\n    <tr>\n      <th>...</th>\n      <td>...</td>\n      <td>...</td>\n    </tr>\n    <tr>\n      <th>Young Guns II (1990)</th>\n      <td>0.317274</td>\n      <td>44.0</td>\n    </tr>\n    <tr>\n      <th>Young Poisoner's Handbook, The (1995)</th>\n      <td>0.356783</td>\n      <td>41.0</td>\n    </tr>\n    <tr>\n      <th>Zeus and Roxanne (1997)</th>\n      <td>NaN</td>\n      <td>6.0</td>\n    </tr>\n    <tr>\n      <th>unknown</th>\n      <td>NaN</td>\n      <td>9.0</td>\n    </tr>\n    <tr>\n      <th>Á köldum klaka (Cold Fever) (1994)</th>\n      <td>NaN</td>\n      <td>1.0</td>\n    </tr>\n  </tbody>\n</table>\n<p>1664 rows × 2 columns</p>\n</div>"
     },
     "metadata": {},
     "execution_count": 195
    }
   ],
   "source": [
    "titanic_correlations"
   ]
  },
  {
   "cell_type": "code",
   "execution_count": 196,
   "metadata": {},
   "outputs": [
    {
     "output_type": "execute_result",
     "data": {
      "text/plain": [
       "                                       Correlation  count\n",
       "title                                                    \n",
       "'Til There Was You (1997)                -0.062017    9.0\n",
       "101 Dalmatians (1996)                     0.120113  109.0\n",
       "12 Angry Men (1957)                       0.077700  125.0\n",
       "187 (1997)                                0.315654   41.0\n",
       "2 Days in the Valley (1996)               0.017295   93.0\n",
       "...                                            ...    ...\n",
       "Year of the Horse (1997)                  1.000000    7.0\n",
       "Young Frankenstein (1974)                 0.107666  200.0\n",
       "Young Guns (1988)                         0.199931  101.0\n",
       "Young Guns II (1990)                      0.317274   44.0\n",
       "Young Poisoner's Handbook, The (1995)     0.356783   41.0\n",
       "\n",
       "[1356 rows x 2 columns]"
      ],
      "text/html": "<div>\n<style scoped>\n    .dataframe tbody tr th:only-of-type {\n        vertical-align: middle;\n    }\n\n    .dataframe tbody tr th {\n        vertical-align: top;\n    }\n\n    .dataframe thead th {\n        text-align: right;\n    }\n</style>\n<table border=\"1\" class=\"dataframe\">\n  <thead>\n    <tr style=\"text-align: right;\">\n      <th></th>\n      <th>Correlation</th>\n      <th>count</th>\n    </tr>\n    <tr>\n      <th>title</th>\n      <th></th>\n      <th></th>\n    </tr>\n  </thead>\n  <tbody>\n    <tr>\n      <th>'Til There Was You (1997)</th>\n      <td>-0.062017</td>\n      <td>9.0</td>\n    </tr>\n    <tr>\n      <th>101 Dalmatians (1996)</th>\n      <td>0.120113</td>\n      <td>109.0</td>\n    </tr>\n    <tr>\n      <th>12 Angry Men (1957)</th>\n      <td>0.077700</td>\n      <td>125.0</td>\n    </tr>\n    <tr>\n      <th>187 (1997)</th>\n      <td>0.315654</td>\n      <td>41.0</td>\n    </tr>\n    <tr>\n      <th>2 Days in the Valley (1996)</th>\n      <td>0.017295</td>\n      <td>93.0</td>\n    </tr>\n    <tr>\n      <th>...</th>\n      <td>...</td>\n      <td>...</td>\n    </tr>\n    <tr>\n      <th>Year of the Horse (1997)</th>\n      <td>1.000000</td>\n      <td>7.0</td>\n    </tr>\n    <tr>\n      <th>Young Frankenstein (1974)</th>\n      <td>0.107666</td>\n      <td>200.0</td>\n    </tr>\n    <tr>\n      <th>Young Guns (1988)</th>\n      <td>0.199931</td>\n      <td>101.0</td>\n    </tr>\n    <tr>\n      <th>Young Guns II (1990)</th>\n      <td>0.317274</td>\n      <td>44.0</td>\n    </tr>\n    <tr>\n      <th>Young Poisoner's Handbook, The (1995)</th>\n      <td>0.356783</td>\n      <td>41.0</td>\n    </tr>\n  </tbody>\n</table>\n<p>1356 rows × 2 columns</p>\n</div>"
     },
     "metadata": {},
     "execution_count": 196
    }
   ],
   "source": [
    "titanic_correlations.dropna(inplace=True)\n",
    "titanic_correlations"
   ]
  },
  {
   "cell_type": "code",
   "execution_count": 197,
   "metadata": {},
   "outputs": [
    {
     "output_type": "execute_result",
     "data": {
      "text/plain": [
       "                                          Correlation  count\n",
       "title                                                       \n",
       "Nadja (1994)                                      1.0    8.0\n",
       "Pest, The (1997)                                  1.0    8.0\n",
       "Savage Nights (Nuits fauves, Les) (1992)          1.0    3.0\n",
       "For Ever Mozart (1996)                            1.0    3.0\n",
       "Jerky Boys, The (1994)                            1.0    3.0\n",
       "...                                               ...    ...\n",
       "Pather Panchali (1955)                           -1.0    8.0\n",
       "Angel Baby (1995)                                -1.0    4.0\n",
       "Blood Beach (1981)                               -1.0    6.0\n",
       "Two Bits (1995)                                  -1.0    5.0\n",
       "Faces (1968)                                     -1.0    4.0\n",
       "\n",
       "[1356 rows x 2 columns]"
      ],
      "text/html": "<div>\n<style scoped>\n    .dataframe tbody tr th:only-of-type {\n        vertical-align: middle;\n    }\n\n    .dataframe tbody tr th {\n        vertical-align: top;\n    }\n\n    .dataframe thead th {\n        text-align: right;\n    }\n</style>\n<table border=\"1\" class=\"dataframe\">\n  <thead>\n    <tr style=\"text-align: right;\">\n      <th></th>\n      <th>Correlation</th>\n      <th>count</th>\n    </tr>\n    <tr>\n      <th>title</th>\n      <th></th>\n      <th></th>\n    </tr>\n  </thead>\n  <tbody>\n    <tr>\n      <th>Nadja (1994)</th>\n      <td>1.0</td>\n      <td>8.0</td>\n    </tr>\n    <tr>\n      <th>Pest, The (1997)</th>\n      <td>1.0</td>\n      <td>8.0</td>\n    </tr>\n    <tr>\n      <th>Savage Nights (Nuits fauves, Les) (1992)</th>\n      <td>1.0</td>\n      <td>3.0</td>\n    </tr>\n    <tr>\n      <th>For Ever Mozart (1996)</th>\n      <td>1.0</td>\n      <td>3.0</td>\n    </tr>\n    <tr>\n      <th>Jerky Boys, The (1994)</th>\n      <td>1.0</td>\n      <td>3.0</td>\n    </tr>\n    <tr>\n      <th>...</th>\n      <td>...</td>\n      <td>...</td>\n    </tr>\n    <tr>\n      <th>Pather Panchali (1955)</th>\n      <td>-1.0</td>\n      <td>8.0</td>\n    </tr>\n    <tr>\n      <th>Angel Baby (1995)</th>\n      <td>-1.0</td>\n      <td>4.0</td>\n    </tr>\n    <tr>\n      <th>Blood Beach (1981)</th>\n      <td>-1.0</td>\n      <td>6.0</td>\n    </tr>\n    <tr>\n      <th>Two Bits (1995)</th>\n      <td>-1.0</td>\n      <td>5.0</td>\n    </tr>\n    <tr>\n      <th>Faces (1968)</th>\n      <td>-1.0</td>\n      <td>4.0</td>\n    </tr>\n  </tbody>\n</table>\n<p>1356 rows × 2 columns</p>\n</div>"
     },
     "metadata": {},
     "execution_count": 197
    }
   ],
   "source": [
    "titanic_correlations.sort_values('Correlation', ascending=False)"
   ]
  },
  {
   "cell_type": "code",
   "execution_count": 198,
   "metadata": {},
   "outputs": [
    {
     "output_type": "execute_result",
     "data": {
      "text/plain": [
       "                              Correlation  count\n",
       "title                                           \n",
       "Titanic (1997)                   1.000000  350.0\n",
       "River Wild, The (1994)           0.497600  146.0\n",
       "Abyss, The (1989)                0.472103  151.0\n",
       "Bram Stoker's Dracula (1992)     0.443560  120.0\n",
       "True Lies (1994)                 0.435104  208.0"
      ],
      "text/html": "<div>\n<style scoped>\n    .dataframe tbody tr th:only-of-type {\n        vertical-align: middle;\n    }\n\n    .dataframe tbody tr th {\n        vertical-align: top;\n    }\n\n    .dataframe thead th {\n        text-align: right;\n    }\n</style>\n<table border=\"1\" class=\"dataframe\">\n  <thead>\n    <tr style=\"text-align: right;\">\n      <th></th>\n      <th>Correlation</th>\n      <th>count</th>\n    </tr>\n    <tr>\n      <th>title</th>\n      <th></th>\n      <th></th>\n    </tr>\n  </thead>\n  <tbody>\n    <tr>\n      <th>Titanic (1997)</th>\n      <td>1.000000</td>\n      <td>350.0</td>\n    </tr>\n    <tr>\n      <th>River Wild, The (1994)</th>\n      <td>0.497600</td>\n      <td>146.0</td>\n    </tr>\n    <tr>\n      <th>Abyss, The (1989)</th>\n      <td>0.472103</td>\n      <td>151.0</td>\n    </tr>\n    <tr>\n      <th>Bram Stoker's Dracula (1992)</th>\n      <td>0.443560</td>\n      <td>120.0</td>\n    </tr>\n    <tr>\n      <th>True Lies (1994)</th>\n      <td>0.435104</td>\n      <td>208.0</td>\n    </tr>\n  </tbody>\n</table>\n</div>"
     },
     "metadata": {},
     "execution_count": 198
    }
   ],
   "source": [
    "titanic_correlations[titanic_correlations['count']>80].sort_values('Correlation',ascending=False).head()"
   ]
  },
  {
   "cell_type": "code",
   "execution_count": 199,
   "metadata": {},
   "outputs": [
    {
     "output_type": "execute_result",
     "data": {
      "text/plain": [
       "title    'Til There Was You (1997)  1-900 (1994)  101 Dalmatians (1996)  \\\n",
       "user_id                                                                   \n",
       "0                              NaN           NaN                    NaN   \n",
       "1                              NaN           NaN                    2.0   \n",
       "2                              NaN           NaN                    NaN   \n",
       "3                              NaN           NaN                    NaN   \n",
       "4                              NaN           NaN                    NaN   \n",
       "...                            ...           ...                    ...   \n",
       "939                            NaN           NaN                    NaN   \n",
       "940                            NaN           NaN                    NaN   \n",
       "941                            NaN           NaN                    NaN   \n",
       "942                            NaN           NaN                    NaN   \n",
       "943                            NaN           NaN                    NaN   \n",
       "\n",
       "title    12 Angry Men (1957)  187 (1997)  2 Days in the Valley (1996)  \\\n",
       "user_id                                                                 \n",
       "0                        NaN         NaN                          NaN   \n",
       "1                        5.0         NaN                          NaN   \n",
       "2                        NaN         NaN                          NaN   \n",
       "3                        NaN         2.0                          NaN   \n",
       "4                        NaN         NaN                          NaN   \n",
       "...                      ...         ...                          ...   \n",
       "939                      NaN         NaN                          NaN   \n",
       "940                      NaN         NaN                          NaN   \n",
       "941                      NaN         NaN                          NaN   \n",
       "942                      NaN         NaN                          NaN   \n",
       "943                      NaN         NaN                          2.0   \n",
       "\n",
       "title    20,000 Leagues Under the Sea (1954)  2001: A Space Odyssey (1968)  \\\n",
       "user_id                                                                      \n",
       "0                                        NaN                           NaN   \n",
       "1                                        3.0                           4.0   \n",
       "2                                        NaN                           NaN   \n",
       "3                                        NaN                           NaN   \n",
       "4                                        NaN                           NaN   \n",
       "...                                      ...                           ...   \n",
       "939                                      NaN                           NaN   \n",
       "940                                      NaN                           NaN   \n",
       "941                                      NaN                           NaN   \n",
       "942                                      NaN                           3.0   \n",
       "943                                      NaN                           NaN   \n",
       "\n",
       "title    3 Ninjas: High Noon At Mega Mountain (1998)  39 Steps, The (1935)  \\\n",
       "user_id                                                                      \n",
       "0                                                NaN                   NaN   \n",
       "1                                                NaN                   NaN   \n",
       "2                                                1.0                   NaN   \n",
       "3                                                NaN                   NaN   \n",
       "4                                                NaN                   NaN   \n",
       "...                                              ...                   ...   \n",
       "939                                              NaN                   NaN   \n",
       "940                                              NaN                   NaN   \n",
       "941                                              NaN                   NaN   \n",
       "942                                              NaN                   3.0   \n",
       "943                                              NaN                   NaN   \n",
       "\n",
       "title    ...  Yankee Zulu (1994)  Year of the Horse (1997)  \\\n",
       "user_id  ...                                                 \n",
       "0        ...                 NaN                       NaN   \n",
       "1        ...                 NaN                       NaN   \n",
       "2        ...                 NaN                       NaN   \n",
       "3        ...                 NaN                       NaN   \n",
       "4        ...                 NaN                       NaN   \n",
       "...      ...                 ...                       ...   \n",
       "939      ...                 NaN                       NaN   \n",
       "940      ...                 NaN                       NaN   \n",
       "941      ...                 NaN                       NaN   \n",
       "942      ...                 NaN                       NaN   \n",
       "943      ...                 NaN                       NaN   \n",
       "\n",
       "title    You So Crazy (1994)  Young Frankenstein (1974)  Young Guns (1988)  \\\n",
       "user_id                                                                      \n",
       "0                        NaN                        NaN                NaN   \n",
       "1                        NaN                        5.0                3.0   \n",
       "2                        NaN                        NaN                NaN   \n",
       "3                        NaN                        NaN                NaN   \n",
       "4                        NaN                        NaN                NaN   \n",
       "...                      ...                        ...                ...   \n",
       "939                      NaN                        NaN                NaN   \n",
       "940                      NaN                        NaN                NaN   \n",
       "941                      NaN                        NaN                NaN   \n",
       "942                      NaN                        NaN                NaN   \n",
       "943                      NaN                        NaN                4.0   \n",
       "\n",
       "title    Young Guns II (1990)  Young Poisoner's Handbook, The (1995)  \\\n",
       "user_id                                                                \n",
       "0                         NaN                                    NaN   \n",
       "1                         NaN                                    NaN   \n",
       "2                         NaN                                    NaN   \n",
       "3                         NaN                                    NaN   \n",
       "4                         NaN                                    NaN   \n",
       "...                       ...                                    ...   \n",
       "939                       NaN                                    NaN   \n",
       "940                       NaN                                    NaN   \n",
       "941                       NaN                                    NaN   \n",
       "942                       NaN                                    NaN   \n",
       "943                       3.0                                    NaN   \n",
       "\n",
       "title    Zeus and Roxanne (1997)  unknown  Á köldum klaka (Cold Fever) (1994)  \n",
       "user_id                                                                        \n",
       "0                            NaN      NaN                                 NaN  \n",
       "1                            NaN      4.0                                 NaN  \n",
       "2                            NaN      NaN                                 NaN  \n",
       "3                            NaN      NaN                                 NaN  \n",
       "4                            NaN      NaN                                 NaN  \n",
       "...                          ...      ...                                 ...  \n",
       "939                          NaN      NaN                                 NaN  \n",
       "940                          NaN      NaN                                 NaN  \n",
       "941                          NaN      NaN                                 NaN  \n",
       "942                          NaN      NaN                                 NaN  \n",
       "943                          NaN      NaN                                 NaN  \n",
       "\n",
       "[944 rows x 1664 columns]"
      ],
      "text/html": "<div>\n<style scoped>\n    .dataframe tbody tr th:only-of-type {\n        vertical-align: middle;\n    }\n\n    .dataframe tbody tr th {\n        vertical-align: top;\n    }\n\n    .dataframe thead th {\n        text-align: right;\n    }\n</style>\n<table border=\"1\" class=\"dataframe\">\n  <thead>\n    <tr style=\"text-align: right;\">\n      <th>title</th>\n      <th>'Til There Was You (1997)</th>\n      <th>1-900 (1994)</th>\n      <th>101 Dalmatians (1996)</th>\n      <th>12 Angry Men (1957)</th>\n      <th>187 (1997)</th>\n      <th>2 Days in the Valley (1996)</th>\n      <th>20,000 Leagues Under the Sea (1954)</th>\n      <th>2001: A Space Odyssey (1968)</th>\n      <th>3 Ninjas: High Noon At Mega Mountain (1998)</th>\n      <th>39 Steps, The (1935)</th>\n      <th>...</th>\n      <th>Yankee Zulu (1994)</th>\n      <th>Year of the Horse (1997)</th>\n      <th>You So Crazy (1994)</th>\n      <th>Young Frankenstein (1974)</th>\n      <th>Young Guns (1988)</th>\n      <th>Young Guns II (1990)</th>\n      <th>Young Poisoner's Handbook, The (1995)</th>\n      <th>Zeus and Roxanne (1997)</th>\n      <th>unknown</th>\n      <th>Á köldum klaka (Cold Fever) (1994)</th>\n    </tr>\n    <tr>\n      <th>user_id</th>\n      <th></th>\n      <th></th>\n      <th></th>\n      <th></th>\n      <th></th>\n      <th></th>\n      <th></th>\n      <th></th>\n      <th></th>\n      <th></th>\n      <th></th>\n      <th></th>\n      <th></th>\n      <th></th>\n      <th></th>\n      <th></th>\n      <th></th>\n      <th></th>\n      <th></th>\n      <th></th>\n      <th></th>\n    </tr>\n  </thead>\n  <tbody>\n    <tr>\n      <th>0</th>\n      <td>NaN</td>\n      <td>NaN</td>\n      <td>NaN</td>\n      <td>NaN</td>\n      <td>NaN</td>\n      <td>NaN</td>\n      <td>NaN</td>\n      <td>NaN</td>\n      <td>NaN</td>\n      <td>NaN</td>\n      <td>...</td>\n      <td>NaN</td>\n      <td>NaN</td>\n      <td>NaN</td>\n      <td>NaN</td>\n      <td>NaN</td>\n      <td>NaN</td>\n      <td>NaN</td>\n      <td>NaN</td>\n      <td>NaN</td>\n      <td>NaN</td>\n    </tr>\n    <tr>\n      <th>1</th>\n      <td>NaN</td>\n      <td>NaN</td>\n      <td>2.0</td>\n      <td>5.0</td>\n      <td>NaN</td>\n      <td>NaN</td>\n      <td>3.0</td>\n      <td>4.0</td>\n      <td>NaN</td>\n      <td>NaN</td>\n      <td>...</td>\n      <td>NaN</td>\n      <td>NaN</td>\n      <td>NaN</td>\n      <td>5.0</td>\n      <td>3.0</td>\n      <td>NaN</td>\n      <td>NaN</td>\n      <td>NaN</td>\n      <td>4.0</td>\n      <td>NaN</td>\n    </tr>\n    <tr>\n      <th>2</th>\n      <td>NaN</td>\n      <td>NaN</td>\n      <td>NaN</td>\n      <td>NaN</td>\n      <td>NaN</td>\n      <td>NaN</td>\n      <td>NaN</td>\n      <td>NaN</td>\n      <td>1.0</td>\n      <td>NaN</td>\n      <td>...</td>\n      <td>NaN</td>\n      <td>NaN</td>\n      <td>NaN</td>\n      <td>NaN</td>\n      <td>NaN</td>\n      <td>NaN</td>\n      <td>NaN</td>\n      <td>NaN</td>\n      <td>NaN</td>\n      <td>NaN</td>\n    </tr>\n    <tr>\n      <th>3</th>\n      <td>NaN</td>\n      <td>NaN</td>\n      <td>NaN</td>\n      <td>NaN</td>\n      <td>2.0</td>\n      <td>NaN</td>\n      <td>NaN</td>\n      <td>NaN</td>\n      <td>NaN</td>\n      <td>NaN</td>\n      <td>...</td>\n      <td>NaN</td>\n      <td>NaN</td>\n      <td>NaN</td>\n      <td>NaN</td>\n      <td>NaN</td>\n      <td>NaN</td>\n      <td>NaN</td>\n      <td>NaN</td>\n      <td>NaN</td>\n      <td>NaN</td>\n    </tr>\n    <tr>\n      <th>4</th>\n      <td>NaN</td>\n      <td>NaN</td>\n      <td>NaN</td>\n      <td>NaN</td>\n      <td>NaN</td>\n      <td>NaN</td>\n      <td>NaN</td>\n      <td>NaN</td>\n      <td>NaN</td>\n      <td>NaN</td>\n      <td>...</td>\n      <td>NaN</td>\n      <td>NaN</td>\n      <td>NaN</td>\n      <td>NaN</td>\n      <td>NaN</td>\n      <td>NaN</td>\n      <td>NaN</td>\n      <td>NaN</td>\n      <td>NaN</td>\n      <td>NaN</td>\n    </tr>\n    <tr>\n      <th>...</th>\n      <td>...</td>\n      <td>...</td>\n      <td>...</td>\n      <td>...</td>\n      <td>...</td>\n      <td>...</td>\n      <td>...</td>\n      <td>...</td>\n      <td>...</td>\n      <td>...</td>\n      <td>...</td>\n      <td>...</td>\n      <td>...</td>\n      <td>...</td>\n      <td>...</td>\n      <td>...</td>\n      <td>...</td>\n      <td>...</td>\n      <td>...</td>\n      <td>...</td>\n      <td>...</td>\n    </tr>\n    <tr>\n      <th>939</th>\n      <td>NaN</td>\n      <td>NaN</td>\n      <td>NaN</td>\n      <td>NaN</td>\n      <td>NaN</td>\n      <td>NaN</td>\n      <td>NaN</td>\n      <td>NaN</td>\n      <td>NaN</td>\n      <td>NaN</td>\n      <td>...</td>\n      <td>NaN</td>\n      <td>NaN</td>\n      <td>NaN</td>\n      <td>NaN</td>\n      <td>NaN</td>\n      <td>NaN</td>\n      <td>NaN</td>\n      <td>NaN</td>\n      <td>NaN</td>\n      <td>NaN</td>\n    </tr>\n    <tr>\n      <th>940</th>\n      <td>NaN</td>\n      <td>NaN</td>\n      <td>NaN</td>\n      <td>NaN</td>\n      <td>NaN</td>\n      <td>NaN</td>\n      <td>NaN</td>\n      <td>NaN</td>\n      <td>NaN</td>\n      <td>NaN</td>\n      <td>...</td>\n      <td>NaN</td>\n      <td>NaN</td>\n      <td>NaN</td>\n      <td>NaN</td>\n      <td>NaN</td>\n      <td>NaN</td>\n      <td>NaN</td>\n      <td>NaN</td>\n      <td>NaN</td>\n      <td>NaN</td>\n    </tr>\n    <tr>\n      <th>941</th>\n      <td>NaN</td>\n      <td>NaN</td>\n      <td>NaN</td>\n      <td>NaN</td>\n      <td>NaN</td>\n      <td>NaN</td>\n      <td>NaN</td>\n      <td>NaN</td>\n      <td>NaN</td>\n      <td>NaN</td>\n      <td>...</td>\n      <td>NaN</td>\n      <td>NaN</td>\n      <td>NaN</td>\n      <td>NaN</td>\n      <td>NaN</td>\n      <td>NaN</td>\n      <td>NaN</td>\n      <td>NaN</td>\n      <td>NaN</td>\n      <td>NaN</td>\n    </tr>\n    <tr>\n      <th>942</th>\n      <td>NaN</td>\n      <td>NaN</td>\n      <td>NaN</td>\n      <td>NaN</td>\n      <td>NaN</td>\n      <td>NaN</td>\n      <td>NaN</td>\n      <td>3.0</td>\n      <td>NaN</td>\n      <td>3.0</td>\n      <td>...</td>\n      <td>NaN</td>\n      <td>NaN</td>\n      <td>NaN</td>\n      <td>NaN</td>\n      <td>NaN</td>\n      <td>NaN</td>\n      <td>NaN</td>\n      <td>NaN</td>\n      <td>NaN</td>\n      <td>NaN</td>\n    </tr>\n    <tr>\n      <th>943</th>\n      <td>NaN</td>\n      <td>NaN</td>\n      <td>NaN</td>\n      <td>NaN</td>\n      <td>NaN</td>\n      <td>2.0</td>\n      <td>NaN</td>\n      <td>NaN</td>\n      <td>NaN</td>\n      <td>NaN</td>\n      <td>...</td>\n      <td>NaN</td>\n      <td>NaN</td>\n      <td>NaN</td>\n      <td>NaN</td>\n      <td>4.0</td>\n      <td>3.0</td>\n      <td>NaN</td>\n      <td>NaN</td>\n      <td>NaN</td>\n      <td>NaN</td>\n    </tr>\n  </tbody>\n</table>\n<p>944 rows × 1664 columns</p>\n</div>"
     },
     "metadata": {},
     "execution_count": 199
    }
   ],
   "source": [
    "userid_movietitle_matrix"
   ]
  },
  {
   "cell_type": "code",
   "execution_count": 200,
   "metadata": {},
   "outputs": [],
   "source": [
    "movie_correlations = userid_movietitle_matrix.corr(method = 'pearson', min_periods = 80)"
   ]
  },
  {
   "cell_type": "code",
   "execution_count": 201,
   "metadata": {},
   "outputs": [],
   "source": [
    "myRatings = pd.read_csv(\"My_Ratings.csv\")"
   ]
  },
  {
   "cell_type": "code",
   "execution_count": 202,
   "metadata": {},
   "outputs": [
    {
     "output_type": "execute_result",
     "data": {
      "text/plain": [
       "         Movie Name  Ratings\n",
       "0  Liar Liar (1997)        5\n",
       "1  Star Wars (1977)        1"
      ],
      "text/html": "<div>\n<style scoped>\n    .dataframe tbody tr th:only-of-type {\n        vertical-align: middle;\n    }\n\n    .dataframe tbody tr th {\n        vertical-align: top;\n    }\n\n    .dataframe thead th {\n        text-align: right;\n    }\n</style>\n<table border=\"1\" class=\"dataframe\">\n  <thead>\n    <tr style=\"text-align: right;\">\n      <th></th>\n      <th>Movie Name</th>\n      <th>Ratings</th>\n    </tr>\n  </thead>\n  <tbody>\n    <tr>\n      <th>0</th>\n      <td>Liar Liar (1997)</td>\n      <td>5</td>\n    </tr>\n    <tr>\n      <th>1</th>\n      <td>Star Wars (1977)</td>\n      <td>1</td>\n    </tr>\n  </tbody>\n</table>\n</div>"
     },
     "metadata": {},
     "execution_count": 202
    }
   ],
   "source": [
    "myRatings"
   ]
  },
  {
   "cell_type": "code",
   "execution_count": 203,
   "metadata": {},
   "outputs": [
    {
     "output_type": "execute_result",
     "data": {
      "text/plain": [
       "2"
      ]
     },
     "metadata": {},
     "execution_count": 203
    }
   ],
   "source": [
    "len(myRatings.index)"
   ]
  },
  {
   "cell_type": "code",
   "execution_count": 204,
   "metadata": {},
   "outputs": [
    {
     "output_type": "execute_result",
     "data": {
      "text/plain": [
       "'Liar Liar (1997)'"
      ]
     },
     "metadata": {},
     "execution_count": 204
    }
   ],
   "source": [
    "myRatings['Movie Name'][0]"
   ]
  },
  {
   "cell_type": "code",
   "execution_count": 239,
   "metadata": {},
   "outputs": [],
   "source": [
    "similar_movies_list = pd.Series()\n",
    "for i in range(0, len(myRatings.index)):\n",
    "    similar_movie = movie_correlations[myRatings['Movie Name'][i]].dropna() # Get same movies with same ratings\n",
    "    similar_movie = similar_movie.map(lambda x: x * myRatings['Ratings'][i]) # Scale the similarity by your given ratings\n",
    "    similar_movies_list = similar_movies_list.append(similar_movie)"
   ]
  },
  {
   "cell_type": "code",
   "execution_count": 240,
   "metadata": {},
   "outputs": [
    {
     "output_type": "stream",
     "name": "stdout",
     "text": [
      "Liar Liar (1997)                             5.000000\nCon Air (1997)                               2.349141\nPretty Woman (1990)                          2.348951\nMichael (1996)                               2.210110\nIndiana Jones and the Last Crusade (1989)    2.072136\nTop Gun (1986)                               2.028602\nG.I. Jane (1997)                             1.989656\nMultiplicity (1996)                          1.984302\nGrumpier Old Men (1995)                      1.953494\nGhost and the Darkness, The (1996)           1.895376\ndtype: float64\n"
     ]
    }
   ],
   "source": [
    "similar_movies_list.sort_values(inplace = True, ascending = False)\n",
    "print (similar_movies_list.head(10))"
   ]
  },
  {
   "cell_type": "code",
   "execution_count": 238,
   "metadata": {},
   "outputs": [
    {
     "output_type": "execute_result",
     "data": {
      "text/plain": [
       "Liar Liar (1997)                             5.000000\n",
       "Con Air (1997)                               2.349141\n",
       "Pretty Woman (1990)                          2.348951\n",
       "Michael (1996)                               2.210110\n",
       "Indiana Jones and the Last Crusade (1989)    2.072136\n",
       "Top Gun (1986)                               2.028602\n",
       "G.I. Jane (1997)                             1.989656\n",
       "Multiplicity (1996)                          1.984302\n",
       "Grumpier Old Men (1995)                      1.953494\n",
       "Ghost and the Darkness, The (1996)           1.895376\n",
       "dtype: float64"
      ]
     },
     "metadata": {},
     "execution_count": 238
    }
   ],
   "source": [
    "#similar_movies_list.tolist()\n",
    "data_json1 = json.loads(similar_movies_list.head(10).to_json(orient='split'))\n",
    "cache_database.remove()\n",
    "cache_database.insert(data_json1)\n",
    "similar_movies_list.head(10)"
   ]
  },
  {
   "cell_type": "code",
   "execution_count": 241,
   "metadata": {},
   "outputs": [
    {
     "output_type": "execute_result",
     "data": {
      "text/plain": [
       "{'n': 1, 'ok': 1.0}"
      ]
     },
     "metadata": {},
     "execution_count": 241
    }
   ],
   "source": [
    "movies_collection.remove({\"title\":\"Toy Story (1995)\"})"
   ]
  },
  {
   "cell_type": "code",
   "execution_count": 244,
   "metadata": {},
   "outputs": [
    {
     "output_type": "execute_result",
     "data": {
      "text/plain": [
       "<pymongo.results.UpdateResult at 0x1a7fb23fe00>"
      ]
     },
     "metadata": {},
     "execution_count": 244
    }
   ],
   "source": [
    "movies_collection_ratings.update(\n",
    "    { \"user_id\" : \"0\" , \"item_id\":\"50\"},\n",
    "    { \"$set\": { \"rating\" : 3 } }\n",
    "    )"
   ]
  },
  {
   "cell_type": "code",
   "execution_count": null,
   "metadata": {},
   "outputs": [],
   "source": []
  }
 ]
}